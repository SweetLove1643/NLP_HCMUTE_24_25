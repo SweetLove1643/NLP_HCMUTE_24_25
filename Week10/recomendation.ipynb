{
 "cells": [
  {
   "cell_type": "markdown",
   "metadata": {},
   "source": [
    "### Import thư viện"
   ]
  },
  {
   "cell_type": "code",
   "execution_count": 1,
   "metadata": {},
   "outputs": [],
   "source": [
    "import pandas as pd\n",
    "import numpy as np"
   ]
  },
  {
   "cell_type": "code",
   "execution_count": 2,
   "metadata": {},
   "outputs": [],
   "source": [
    "# Bước 1: Đọc dữ liệu từ hai file CSV\n",
    "ratings_df = pd.read_csv('ratings.csv')  # Dữ liệu đánh giá phim của người dùng\n",
    "movies_df = pd.read_csv('movies.csv')    # Dữ liệu thông tin phim"
   ]
  },
  {
   "cell_type": "code",
   "execution_count": 6,
   "metadata": {},
   "outputs": [
    {
     "data": {
      "application/vnd.microsoft.datawrangler.viewer.v0+json": {
       "columns": [
        {
         "name": "index",
         "rawType": "int64",
         "type": "integer"
        },
        {
         "name": "userId",
         "rawType": "int64",
         "type": "integer"
        },
        {
         "name": "movieId",
         "rawType": "int64",
         "type": "integer"
        },
        {
         "name": "rating",
         "rawType": "float64",
         "type": "float"
        },
        {
         "name": "timestamp",
         "rawType": "int64",
         "type": "integer"
        }
       ],
       "conversionMethod": "pd.DataFrame",
       "ref": "afe15af3-687c-4b38-af4f-4e660ca8d4df",
       "rows": [
        [
         "0",
         "1",
         "1",
         "4.0",
         "964982703"
        ],
        [
         "1",
         "1",
         "3",
         "4.0",
         "964981247"
        ],
        [
         "2",
         "1",
         "6",
         "4.0",
         "964982224"
        ],
        [
         "3",
         "1",
         "47",
         "5.0",
         "964983815"
        ],
        [
         "4",
         "1",
         "50",
         "5.0",
         "964982931"
        ]
       ],
       "shape": {
        "columns": 4,
        "rows": 5
       }
      },
      "text/html": [
       "<div>\n",
       "<style scoped>\n",
       "    .dataframe tbody tr th:only-of-type {\n",
       "        vertical-align: middle;\n",
       "    }\n",
       "\n",
       "    .dataframe tbody tr th {\n",
       "        vertical-align: top;\n",
       "    }\n",
       "\n",
       "    .dataframe thead th {\n",
       "        text-align: right;\n",
       "    }\n",
       "</style>\n",
       "<table border=\"1\" class=\"dataframe\">\n",
       "  <thead>\n",
       "    <tr style=\"text-align: right;\">\n",
       "      <th></th>\n",
       "      <th>userId</th>\n",
       "      <th>movieId</th>\n",
       "      <th>rating</th>\n",
       "      <th>timestamp</th>\n",
       "    </tr>\n",
       "  </thead>\n",
       "  <tbody>\n",
       "    <tr>\n",
       "      <th>0</th>\n",
       "      <td>1</td>\n",
       "      <td>1</td>\n",
       "      <td>4.0</td>\n",
       "      <td>964982703</td>\n",
       "    </tr>\n",
       "    <tr>\n",
       "      <th>1</th>\n",
       "      <td>1</td>\n",
       "      <td>3</td>\n",
       "      <td>4.0</td>\n",
       "      <td>964981247</td>\n",
       "    </tr>\n",
       "    <tr>\n",
       "      <th>2</th>\n",
       "      <td>1</td>\n",
       "      <td>6</td>\n",
       "      <td>4.0</td>\n",
       "      <td>964982224</td>\n",
       "    </tr>\n",
       "    <tr>\n",
       "      <th>3</th>\n",
       "      <td>1</td>\n",
       "      <td>47</td>\n",
       "      <td>5.0</td>\n",
       "      <td>964983815</td>\n",
       "    </tr>\n",
       "    <tr>\n",
       "      <th>4</th>\n",
       "      <td>1</td>\n",
       "      <td>50</td>\n",
       "      <td>5.0</td>\n",
       "      <td>964982931</td>\n",
       "    </tr>\n",
       "  </tbody>\n",
       "</table>\n",
       "</div>"
      ],
      "text/plain": [
       "   userId  movieId  rating  timestamp\n",
       "0       1        1     4.0  964982703\n",
       "1       1        3     4.0  964981247\n",
       "2       1        6     4.0  964982224\n",
       "3       1       47     5.0  964983815\n",
       "4       1       50     5.0  964982931"
      ]
     },
     "execution_count": 6,
     "metadata": {},
     "output_type": "execute_result"
    }
   ],
   "source": [
    "ratings_df.head()"
   ]
  },
  {
   "cell_type": "code",
   "execution_count": 3,
   "metadata": {},
   "outputs": [
    {
     "data": {
      "application/vnd.microsoft.datawrangler.viewer.v0+json": {
       "columns": [
        {
         "name": "index",
         "rawType": "int64",
         "type": "integer"
        },
        {
         "name": "movieId",
         "rawType": "int64",
         "type": "integer"
        },
        {
         "name": "title",
         "rawType": "object",
         "type": "string"
        },
        {
         "name": "genres",
         "rawType": "object",
         "type": "string"
        }
       ],
       "conversionMethod": "pd.DataFrame",
       "ref": "46912cd3-5299-4631-97da-a1d61ac30e9d",
       "rows": [
        [
         "0",
         "1",
         "Toy Story (1995)",
         "Adventure|Animation|Children|Comedy|Fantasy"
        ],
        [
         "1",
         "2",
         "Jumanji (1995)",
         "Adventure|Children|Fantasy"
        ],
        [
         "2",
         "3",
         "Grumpier Old Men (1995)",
         "Comedy|Romance"
        ],
        [
         "3",
         "4",
         "Waiting to Exhale (1995)",
         "Comedy|Drama|Romance"
        ],
        [
         "4",
         "5",
         "Father of the Bride Part II (1995)",
         "Comedy"
        ],
        [
         "5",
         "6",
         "Heat (1995)",
         "Action|Crime|Thriller"
        ],
        [
         "6",
         "7",
         "Sabrina (1995)",
         "Comedy|Romance"
        ],
        [
         "7",
         "8",
         "Tom and Huck (1995)",
         "Adventure|Children"
        ],
        [
         "8",
         "9",
         "Sudden Death (1995)",
         "Action"
        ],
        [
         "9",
         "10",
         "GoldenEye (1995)",
         "Action|Adventure|Thriller"
        ],
        [
         "10",
         "11",
         "American President, The (1995)",
         "Comedy|Drama|Romance"
        ],
        [
         "11",
         "12",
         "Dracula: Dead and Loving It (1995)",
         "Comedy|Horror"
        ],
        [
         "12",
         "13",
         "Balto (1995)",
         "Adventure|Animation|Children"
        ],
        [
         "13",
         "14",
         "Nixon (1995)",
         "Drama"
        ],
        [
         "14",
         "15",
         "Cutthroat Island (1995)",
         "Action|Adventure|Romance"
        ],
        [
         "15",
         "16",
         "Casino (1995)",
         "Crime|Drama"
        ],
        [
         "16",
         "17",
         "Sense and Sensibility (1995)",
         "Drama|Romance"
        ],
        [
         "17",
         "18",
         "Four Rooms (1995)",
         "Comedy"
        ],
        [
         "18",
         "19",
         "Ace Ventura: When Nature Calls (1995)",
         "Comedy"
        ],
        [
         "19",
         "20",
         "Money Train (1995)",
         "Action|Comedy|Crime|Drama|Thriller"
        ]
       ],
       "shape": {
        "columns": 3,
        "rows": 20
       }
      },
      "text/html": [
       "<div>\n",
       "<style scoped>\n",
       "    .dataframe tbody tr th:only-of-type {\n",
       "        vertical-align: middle;\n",
       "    }\n",
       "\n",
       "    .dataframe tbody tr th {\n",
       "        vertical-align: top;\n",
       "    }\n",
       "\n",
       "    .dataframe thead th {\n",
       "        text-align: right;\n",
       "    }\n",
       "</style>\n",
       "<table border=\"1\" class=\"dataframe\">\n",
       "  <thead>\n",
       "    <tr style=\"text-align: right;\">\n",
       "      <th></th>\n",
       "      <th>movieId</th>\n",
       "      <th>title</th>\n",
       "      <th>genres</th>\n",
       "    </tr>\n",
       "  </thead>\n",
       "  <tbody>\n",
       "    <tr>\n",
       "      <th>0</th>\n",
       "      <td>1</td>\n",
       "      <td>Toy Story (1995)</td>\n",
       "      <td>Adventure|Animation|Children|Comedy|Fantasy</td>\n",
       "    </tr>\n",
       "    <tr>\n",
       "      <th>1</th>\n",
       "      <td>2</td>\n",
       "      <td>Jumanji (1995)</td>\n",
       "      <td>Adventure|Children|Fantasy</td>\n",
       "    </tr>\n",
       "    <tr>\n",
       "      <th>2</th>\n",
       "      <td>3</td>\n",
       "      <td>Grumpier Old Men (1995)</td>\n",
       "      <td>Comedy|Romance</td>\n",
       "    </tr>\n",
       "    <tr>\n",
       "      <th>3</th>\n",
       "      <td>4</td>\n",
       "      <td>Waiting to Exhale (1995)</td>\n",
       "      <td>Comedy|Drama|Romance</td>\n",
       "    </tr>\n",
       "    <tr>\n",
       "      <th>4</th>\n",
       "      <td>5</td>\n",
       "      <td>Father of the Bride Part II (1995)</td>\n",
       "      <td>Comedy</td>\n",
       "    </tr>\n",
       "    <tr>\n",
       "      <th>5</th>\n",
       "      <td>6</td>\n",
       "      <td>Heat (1995)</td>\n",
       "      <td>Action|Crime|Thriller</td>\n",
       "    </tr>\n",
       "    <tr>\n",
       "      <th>6</th>\n",
       "      <td>7</td>\n",
       "      <td>Sabrina (1995)</td>\n",
       "      <td>Comedy|Romance</td>\n",
       "    </tr>\n",
       "    <tr>\n",
       "      <th>7</th>\n",
       "      <td>8</td>\n",
       "      <td>Tom and Huck (1995)</td>\n",
       "      <td>Adventure|Children</td>\n",
       "    </tr>\n",
       "    <tr>\n",
       "      <th>8</th>\n",
       "      <td>9</td>\n",
       "      <td>Sudden Death (1995)</td>\n",
       "      <td>Action</td>\n",
       "    </tr>\n",
       "    <tr>\n",
       "      <th>9</th>\n",
       "      <td>10</td>\n",
       "      <td>GoldenEye (1995)</td>\n",
       "      <td>Action|Adventure|Thriller</td>\n",
       "    </tr>\n",
       "    <tr>\n",
       "      <th>10</th>\n",
       "      <td>11</td>\n",
       "      <td>American President, The (1995)</td>\n",
       "      <td>Comedy|Drama|Romance</td>\n",
       "    </tr>\n",
       "    <tr>\n",
       "      <th>11</th>\n",
       "      <td>12</td>\n",
       "      <td>Dracula: Dead and Loving It (1995)</td>\n",
       "      <td>Comedy|Horror</td>\n",
       "    </tr>\n",
       "    <tr>\n",
       "      <th>12</th>\n",
       "      <td>13</td>\n",
       "      <td>Balto (1995)</td>\n",
       "      <td>Adventure|Animation|Children</td>\n",
       "    </tr>\n",
       "    <tr>\n",
       "      <th>13</th>\n",
       "      <td>14</td>\n",
       "      <td>Nixon (1995)</td>\n",
       "      <td>Drama</td>\n",
       "    </tr>\n",
       "    <tr>\n",
       "      <th>14</th>\n",
       "      <td>15</td>\n",
       "      <td>Cutthroat Island (1995)</td>\n",
       "      <td>Action|Adventure|Romance</td>\n",
       "    </tr>\n",
       "    <tr>\n",
       "      <th>15</th>\n",
       "      <td>16</td>\n",
       "      <td>Casino (1995)</td>\n",
       "      <td>Crime|Drama</td>\n",
       "    </tr>\n",
       "    <tr>\n",
       "      <th>16</th>\n",
       "      <td>17</td>\n",
       "      <td>Sense and Sensibility (1995)</td>\n",
       "      <td>Drama|Romance</td>\n",
       "    </tr>\n",
       "    <tr>\n",
       "      <th>17</th>\n",
       "      <td>18</td>\n",
       "      <td>Four Rooms (1995)</td>\n",
       "      <td>Comedy</td>\n",
       "    </tr>\n",
       "    <tr>\n",
       "      <th>18</th>\n",
       "      <td>19</td>\n",
       "      <td>Ace Ventura: When Nature Calls (1995)</td>\n",
       "      <td>Comedy</td>\n",
       "    </tr>\n",
       "    <tr>\n",
       "      <th>19</th>\n",
       "      <td>20</td>\n",
       "      <td>Money Train (1995)</td>\n",
       "      <td>Action|Comedy|Crime|Drama|Thriller</td>\n",
       "    </tr>\n",
       "  </tbody>\n",
       "</table>\n",
       "</div>"
      ],
      "text/plain": [
       "    movieId                                  title  \\\n",
       "0         1                       Toy Story (1995)   \n",
       "1         2                         Jumanji (1995)   \n",
       "2         3                Grumpier Old Men (1995)   \n",
       "3         4               Waiting to Exhale (1995)   \n",
       "4         5     Father of the Bride Part II (1995)   \n",
       "5         6                            Heat (1995)   \n",
       "6         7                         Sabrina (1995)   \n",
       "7         8                    Tom and Huck (1995)   \n",
       "8         9                    Sudden Death (1995)   \n",
       "9        10                       GoldenEye (1995)   \n",
       "10       11         American President, The (1995)   \n",
       "11       12     Dracula: Dead and Loving It (1995)   \n",
       "12       13                           Balto (1995)   \n",
       "13       14                           Nixon (1995)   \n",
       "14       15                Cutthroat Island (1995)   \n",
       "15       16                          Casino (1995)   \n",
       "16       17           Sense and Sensibility (1995)   \n",
       "17       18                      Four Rooms (1995)   \n",
       "18       19  Ace Ventura: When Nature Calls (1995)   \n",
       "19       20                     Money Train (1995)   \n",
       "\n",
       "                                         genres  \n",
       "0   Adventure|Animation|Children|Comedy|Fantasy  \n",
       "1                    Adventure|Children|Fantasy  \n",
       "2                                Comedy|Romance  \n",
       "3                          Comedy|Drama|Romance  \n",
       "4                                        Comedy  \n",
       "5                         Action|Crime|Thriller  \n",
       "6                                Comedy|Romance  \n",
       "7                            Adventure|Children  \n",
       "8                                        Action  \n",
       "9                     Action|Adventure|Thriller  \n",
       "10                         Comedy|Drama|Romance  \n",
       "11                                Comedy|Horror  \n",
       "12                 Adventure|Animation|Children  \n",
       "13                                        Drama  \n",
       "14                     Action|Adventure|Romance  \n",
       "15                                  Crime|Drama  \n",
       "16                                Drama|Romance  \n",
       "17                                       Comedy  \n",
       "18                                       Comedy  \n",
       "19           Action|Comedy|Crime|Drama|Thriller  "
      ]
     },
     "execution_count": 3,
     "metadata": {},
     "output_type": "execute_result"
    }
   ],
   "source": [
    "movies_df.head(20)\n"
   ]
  },
  {
   "cell_type": "code",
   "execution_count": 4,
   "metadata": {},
   "outputs": [],
   "source": [
    "from sklearn.feature_extraction.text import TfidfVectorizer\n",
    "from sklearn.metrics.pairwise import cosine_similarity\n",
    "\n",
    "# Bước 2: Xử lý cột 'genres' (thể loại phim) thành văn bản có thể vector hóa\n",
    "# Thay ký tự '|' bằng khoảng trắng để mỗi thể loại là một từ\n",
    "movies_df['processed_genres'] = movies_df['genres'].str.replace('|', ' ', regex=False)\n"
   ]
  },
  {
   "cell_type": "code",
   "execution_count": null,
   "metadata": {},
   "outputs": [
    {
     "data": {
      "application/vnd.microsoft.datawrangler.viewer.v0+json": {
       "columns": [
        {
         "name": "index",
         "rawType": "int64",
         "type": "integer"
        },
        {
         "name": "movieId",
         "rawType": "int64",
         "type": "integer"
        },
        {
         "name": "title",
         "rawType": "object",
         "type": "string"
        },
        {
         "name": "genres",
         "rawType": "object",
         "type": "string"
        },
        {
         "name": "processed_genres",
         "rawType": "object",
         "type": "string"
        }
       ],
       "conversionMethod": "pd.DataFrame",
       "ref": "402d010c-70da-4be4-beca-3592ebb5189b",
       "rows": [
        [
         "0",
         "1",
         "Toy Story (1995)",
         "Adventure|Animation|Children|Comedy|Fantasy",
         "Adventure Animation Children Comedy Fantasy"
        ],
        [
         "1",
         "2",
         "Jumanji (1995)",
         "Adventure|Children|Fantasy",
         "Adventure Children Fantasy"
        ],
        [
         "2",
         "3",
         "Grumpier Old Men (1995)",
         "Comedy|Romance",
         "Comedy Romance"
        ],
        [
         "3",
         "4",
         "Waiting to Exhale (1995)",
         "Comedy|Drama|Romance",
         "Comedy Drama Romance"
        ],
        [
         "4",
         "5",
         "Father of the Bride Part II (1995)",
         "Comedy",
         "Comedy"
        ]
       ],
       "shape": {
        "columns": 4,
        "rows": 5
       }
      },
      "text/html": [
       "<div>\n",
       "<style scoped>\n",
       "    .dataframe tbody tr th:only-of-type {\n",
       "        vertical-align: middle;\n",
       "    }\n",
       "\n",
       "    .dataframe tbody tr th {\n",
       "        vertical-align: top;\n",
       "    }\n",
       "\n",
       "    .dataframe thead th {\n",
       "        text-align: right;\n",
       "    }\n",
       "</style>\n",
       "<table border=\"1\" class=\"dataframe\">\n",
       "  <thead>\n",
       "    <tr style=\"text-align: right;\">\n",
       "      <th></th>\n",
       "      <th>movieId</th>\n",
       "      <th>title</th>\n",
       "      <th>genres</th>\n",
       "      <th>processed_genres</th>\n",
       "    </tr>\n",
       "  </thead>\n",
       "  <tbody>\n",
       "    <tr>\n",
       "      <th>0</th>\n",
       "      <td>1</td>\n",
       "      <td>Toy Story (1995)</td>\n",
       "      <td>Adventure|Animation|Children|Comedy|Fantasy</td>\n",
       "      <td>Adventure Animation Children Comedy Fantasy</td>\n",
       "    </tr>\n",
       "    <tr>\n",
       "      <th>1</th>\n",
       "      <td>2</td>\n",
       "      <td>Jumanji (1995)</td>\n",
       "      <td>Adventure|Children|Fantasy</td>\n",
       "      <td>Adventure Children Fantasy</td>\n",
       "    </tr>\n",
       "    <tr>\n",
       "      <th>2</th>\n",
       "      <td>3</td>\n",
       "      <td>Grumpier Old Men (1995)</td>\n",
       "      <td>Comedy|Romance</td>\n",
       "      <td>Comedy Romance</td>\n",
       "    </tr>\n",
       "    <tr>\n",
       "      <th>3</th>\n",
       "      <td>4</td>\n",
       "      <td>Waiting to Exhale (1995)</td>\n",
       "      <td>Comedy|Drama|Romance</td>\n",
       "      <td>Comedy Drama Romance</td>\n",
       "    </tr>\n",
       "    <tr>\n",
       "      <th>4</th>\n",
       "      <td>5</td>\n",
       "      <td>Father of the Bride Part II (1995)</td>\n",
       "      <td>Comedy</td>\n",
       "      <td>Comedy</td>\n",
       "    </tr>\n",
       "  </tbody>\n",
       "</table>\n",
       "</div>"
      ],
      "text/plain": [
       "   movieId                               title  \\\n",
       "0        1                    Toy Story (1995)   \n",
       "1        2                      Jumanji (1995)   \n",
       "2        3             Grumpier Old Men (1995)   \n",
       "3        4            Waiting to Exhale (1995)   \n",
       "4        5  Father of the Bride Part II (1995)   \n",
       "\n",
       "                                        genres  \\\n",
       "0  Adventure|Animation|Children|Comedy|Fantasy   \n",
       "1                   Adventure|Children|Fantasy   \n",
       "2                               Comedy|Romance   \n",
       "3                         Comedy|Drama|Romance   \n",
       "4                                       Comedy   \n",
       "\n",
       "                              processed_genres  \n",
       "0  Adventure Animation Children Comedy Fantasy  \n",
       "1                   Adventure Children Fantasy  \n",
       "2                               Comedy Romance  \n",
       "3                         Comedy Drama Romance  \n",
       "4                                       Comedy  "
      ]
     },
     "execution_count": 9,
     "metadata": {},
     "output_type": "execute_result"
    }
   ],
   "source": [
    "movies_df.head()"
   ]
  },
  {
   "cell_type": "code",
   "execution_count": 13,
   "metadata": {},
   "outputs": [
    {
     "name": "stdout",
     "output_type": "stream",
     "text": [
      "  (0, 1)\t0.41684567364693936\n",
      "  (0, 2)\t0.5162254711770092\n",
      "  (0, 3)\t0.5048454681396087\n",
      "  (0, 4)\t0.26758647689140014\n",
      "  (0, 8)\t0.482990142708577\n",
      "  (1, 1)\t0.5123612074824269\n",
      "  (1, 3)\t0.6205251727456431\n",
      "  (1, 8)\t0.5936619434123594\n",
      "  (2, 4)\t0.5709154064399099\n",
      "  (2, 19)\t0.8210088907493954\n",
      "  (3, 4)\t0.5050154397005037\n",
      "  (3, 19)\t0.726240982959826\n",
      "  (3, 7)\t0.46640480307738325\n",
      "  (4, 4)\t1.0\n",
      "  (5, 0)\t0.5493281743985543\n",
      "  (5, 5)\t0.6359470441562757\n",
      "  (5, 21)\t0.5420423542868653\n",
      "  (6, 4)\t0.5709154064399099\n",
      "  (6, 19)\t0.8210088907493954\n",
      "  (7, 1)\t0.6366993258087036\n",
      "  (7, 3)\t0.7711121633813997\n",
      "  (8, 0)\t1.0\n",
      "  (9, 1)\t0.6295217016667962\n",
      "  (9, 0)\t0.5530653284926609\n",
      "  (9, 21)\t0.5457299419583338\n",
      "  :\t:\n",
      "  (9731, 0)\t0.41272965170024634\n",
      "  (9731, 20)\t0.508925697730817\n",
      "  (9731, 9)\t0.508925697730817\n",
      "  (9732, 2)\t0.5502833875552382\n",
      "  (9732, 4)\t0.28524046407869114\n",
      "  (9732, 0)\t0.39038039438445316\n",
      "  (9732, 20)\t0.48136743695078876\n",
      "  (9732, 9)\t0.48136743695078876\n",
      "  (9733, 2)\t0.9019723811117537\n",
      "  (9733, 7)\t0.43179372819853856\n",
      "  (9734, 4)\t0.7346318071660581\n",
      "  (9734, 7)\t0.6784659961265057\n",
      "  (9735, 2)\t1.0\n",
      "  (9736, 6)\t1.0\n",
      "  (9737, 2)\t0.6146032658703219\n",
      "  (9737, 4)\t0.3185807980865713\n",
      "  (9737, 8)\t0.5750342353604591\n",
      "  (9737, 0)\t0.4360100100175107\n",
      "  (9738, 2)\t0.682936669160916\n",
      "  (9738, 4)\t0.35400155057063365\n",
      "  (9738, 8)\t0.6389682371675297\n",
      "  (9739, 7)\t1.0\n",
      "  (9740, 2)\t0.8156073762948541\n",
      "  (9740, 0)\t0.5786057446426058\n",
      "  (9741, 4)\t1.0\n"
     ]
    }
   ],
   "source": [
    "# Bước 3: Vector hóa thể loại bằng TF-IDF\n",
    "tfidf = TfidfVectorizer()\n",
    "tfidf_matrix = tfidf.fit_transform(movies_df['processed_genres'])\n",
    "print(tfidf_matrix)"
   ]
  },
  {
   "cell_type": "code",
   "execution_count": 14,
   "metadata": {},
   "outputs": [
    {
     "data": {
      "application/vnd.microsoft.datawrangler.viewer.v0+json": {
       "columns": [
        {
         "name": "index",
         "rawType": "int64",
         "type": "integer"
        },
        {
         "name": "userId",
         "rawType": "int64",
         "type": "integer"
        },
        {
         "name": "movieId",
         "rawType": "int64",
         "type": "integer"
        },
        {
         "name": "rating",
         "rawType": "float64",
         "type": "float"
        },
        {
         "name": "timestamp",
         "rawType": "int64",
         "type": "integer"
        },
        {
         "name": "title",
         "rawType": "object",
         "type": "string"
        },
        {
         "name": "genres",
         "rawType": "object",
         "type": "string"
        },
        {
         "name": "processed_genres",
         "rawType": "object",
         "type": "string"
        }
       ],
       "conversionMethod": "pd.DataFrame",
       "ref": "57fcc322-6ca1-4a89-aa69-96b26e6aadf4",
       "rows": [
        [
         "0",
         "1",
         "1",
         "4.0",
         "964982703",
         "Toy Story (1995)",
         "Adventure|Animation|Children|Comedy|Fantasy",
         "Adventure Animation Children Comedy Fantasy"
        ],
        [
         "1",
         "1",
         "3",
         "4.0",
         "964981247",
         "Grumpier Old Men (1995)",
         "Comedy|Romance",
         "Comedy Romance"
        ],
        [
         "2",
         "1",
         "6",
         "4.0",
         "964982224",
         "Heat (1995)",
         "Action|Crime|Thriller",
         "Action Crime Thriller"
        ],
        [
         "3",
         "1",
         "47",
         "5.0",
         "964983815",
         "Seven (a.k.a. Se7en) (1995)",
         "Mystery|Thriller",
         "Mystery Thriller"
        ],
        [
         "4",
         "1",
         "50",
         "5.0",
         "964982931",
         "Usual Suspects, The (1995)",
         "Crime|Mystery|Thriller",
         "Crime Mystery Thriller"
        ],
        [
         "5",
         "1",
         "70",
         "3.0",
         "964982400",
         "From Dusk Till Dawn (1996)",
         "Action|Comedy|Horror|Thriller",
         "Action Comedy Horror Thriller"
        ],
        [
         "6",
         "1",
         "101",
         "5.0",
         "964980868",
         "Bottle Rocket (1996)",
         "Adventure|Comedy|Crime|Romance",
         "Adventure Comedy Crime Romance"
        ],
        [
         "7",
         "1",
         "110",
         "4.0",
         "964982176",
         "Braveheart (1995)",
         "Action|Drama|War",
         "Action Drama War"
        ],
        [
         "8",
         "1",
         "151",
         "5.0",
         "964984041",
         "Rob Roy (1995)",
         "Action|Drama|Romance|War",
         "Action Drama Romance War"
        ],
        [
         "9",
         "1",
         "157",
         "5.0",
         "964984100",
         "Canadian Bacon (1995)",
         "Comedy|War",
         "Comedy War"
        ],
        [
         "10",
         "1",
         "163",
         "5.0",
         "964983650",
         "Desperado (1995)",
         "Action|Romance|Western",
         "Action Romance Western"
        ],
        [
         "11",
         "1",
         "216",
         "5.0",
         "964981208",
         "Billy Madison (1995)",
         "Comedy",
         "Comedy"
        ],
        [
         "12",
         "1",
         "223",
         "3.0",
         "964980985",
         "Clerks (1994)",
         "Comedy",
         "Comedy"
        ],
        [
         "13",
         "1",
         "231",
         "5.0",
         "964981179",
         "Dumb & Dumber (Dumb and Dumber) (1994)",
         "Adventure|Comedy",
         "Adventure Comedy"
        ],
        [
         "14",
         "1",
         "235",
         "4.0",
         "964980908",
         "Ed Wood (1994)",
         "Comedy|Drama",
         "Comedy Drama"
        ],
        [
         "15",
         "1",
         "260",
         "5.0",
         "964981680",
         "Star Wars: Episode IV - A New Hope (1977)",
         "Action|Adventure|Sci-Fi",
         "Action Adventure Sci-Fi"
        ],
        [
         "16",
         "1",
         "296",
         "3.0",
         "964982967",
         "Pulp Fiction (1994)",
         "Comedy|Crime|Drama|Thriller",
         "Comedy Crime Drama Thriller"
        ],
        [
         "17",
         "1",
         "316",
         "3.0",
         "964982310",
         "Stargate (1994)",
         "Action|Adventure|Sci-Fi",
         "Action Adventure Sci-Fi"
        ],
        [
         "18",
         "1",
         "333",
         "5.0",
         "964981179",
         "Tommy Boy (1995)",
         "Comedy",
         "Comedy"
        ],
        [
         "19",
         "1",
         "349",
         "4.0",
         "964982563",
         "Clear and Present Danger (1994)",
         "Action|Crime|Drama|Thriller",
         "Action Crime Drama Thriller"
        ],
        [
         "20",
         "1",
         "356",
         "4.0",
         "964980962",
         "Forrest Gump (1994)",
         "Comedy|Drama|Romance|War",
         "Comedy Drama Romance War"
        ],
        [
         "21",
         "1",
         "362",
         "5.0",
         "964982588",
         "Jungle Book, The (1994)",
         "Adventure|Children|Romance",
         "Adventure Children Romance"
        ],
        [
         "22",
         "1",
         "367",
         "4.0",
         "964981710",
         "Mask, The (1994)",
         "Action|Comedy|Crime|Fantasy",
         "Action Comedy Crime Fantasy"
        ],
        [
         "23",
         "1",
         "423",
         "3.0",
         "964982363",
         "Blown Away (1994)",
         "Action|Thriller",
         "Action Thriller"
        ],
        [
         "24",
         "1",
         "441",
         "4.0",
         "964980868",
         "Dazed and Confused (1993)",
         "Comedy",
         "Comedy"
        ],
        [
         "25",
         "1",
         "457",
         "5.0",
         "964981909",
         "Fugitive, The (1993)",
         "Thriller",
         "Thriller"
        ],
        [
         "26",
         "1",
         "480",
         "4.0",
         "964982346",
         "Jurassic Park (1993)",
         "Action|Adventure|Sci-Fi|Thriller",
         "Action Adventure Sci-Fi Thriller"
        ],
        [
         "27",
         "1",
         "500",
         "3.0",
         "964981208",
         "Mrs. Doubtfire (1993)",
         "Comedy|Drama",
         "Comedy Drama"
        ],
        [
         "28",
         "1",
         "527",
         "5.0",
         "964984002",
         "Schindler's List (1993)",
         "Drama|War",
         "Drama War"
        ],
        [
         "29",
         "1",
         "543",
         "4.0",
         "964981179",
         "So I Married an Axe Murderer (1993)",
         "Comedy|Romance|Thriller",
         "Comedy Romance Thriller"
        ],
        [
         "30",
         "1",
         "552",
         "4.0",
         "964982653",
         "Three Musketeers, The (1993)",
         "Action|Adventure|Comedy|Romance",
         "Action Adventure Comedy Romance"
        ],
        [
         "31",
         "1",
         "553",
         "5.0",
         "964984153",
         "Tombstone (1993)",
         "Action|Drama|Western",
         "Action Drama Western"
        ],
        [
         "32",
         "1",
         "590",
         "4.0",
         "964982546",
         "Dances with Wolves (1990)",
         "Adventure|Drama|Western",
         "Adventure Drama Western"
        ],
        [
         "33",
         "1",
         "592",
         "4.0",
         "964982271",
         "Batman (1989)",
         "Action|Crime|Thriller",
         "Action Crime Thriller"
        ],
        [
         "34",
         "1",
         "593",
         "4.0",
         "964983793",
         "Silence of the Lambs, The (1991)",
         "Crime|Horror|Thriller",
         "Crime Horror Thriller"
        ],
        [
         "35",
         "1",
         "596",
         "5.0",
         "964982838",
         "Pinocchio (1940)",
         "Animation|Children|Fantasy|Musical",
         "Animation Children Fantasy Musical"
        ],
        [
         "36",
         "1",
         "608",
         "5.0",
         "964982931",
         "Fargo (1996)",
         "Comedy|Crime|Drama|Thriller",
         "Comedy Crime Drama Thriller"
        ],
        [
         "37",
         "1",
         "648",
         "3.0",
         "964982563",
         "Mission: Impossible (1996)",
         "Action|Adventure|Mystery|Thriller",
         "Action Adventure Mystery Thriller"
        ],
        [
         "38",
         "1",
         "661",
         "5.0",
         "964982838",
         "James and the Giant Peach (1996)",
         "Adventure|Animation|Children|Fantasy|Musical",
         "Adventure Animation Children Fantasy Musical"
        ],
        [
         "39",
         "1",
         "673",
         "3.0",
         "964981775",
         "Space Jam (1996)",
         "Adventure|Animation|Children|Comedy|Fantasy|Sci-Fi",
         "Adventure Animation Children Comedy Fantasy Sci-Fi"
        ],
        [
         "40",
         "1",
         "733",
         "4.0",
         "964982400",
         "Rock, The (1996)",
         "Action|Adventure|Thriller",
         "Action Adventure Thriller"
        ],
        [
         "41",
         "1",
         "736",
         "3.0",
         "964982653",
         "Twister (1996)",
         "Action|Adventure|Romance|Thriller",
         "Action Adventure Romance Thriller"
        ],
        [
         "42",
         "1",
         "780",
         "3.0",
         "964984086",
         "Independence Day (a.k.a. ID4) (1996)",
         "Action|Adventure|Sci-Fi|Thriller",
         "Action Adventure Sci-Fi Thriller"
        ],
        [
         "43",
         "1",
         "804",
         "4.0",
         "964980499",
         "She's the One (1996)",
         "Comedy|Romance",
         "Comedy Romance"
        ],
        [
         "44",
         "1",
         "919",
         "5.0",
         "964982475",
         "Wizard of Oz, The (1939)",
         "Adventure|Children|Fantasy|Musical",
         "Adventure Children Fantasy Musical"
        ],
        [
         "45",
         "1",
         "923",
         "5.0",
         "964981529",
         "Citizen Kane (1941)",
         "Drama|Mystery",
         "Drama Mystery"
        ],
        [
         "46",
         "1",
         "940",
         "5.0",
         "964982176",
         "Adventures of Robin Hood, The (1938)",
         "Action|Adventure|Romance",
         "Action Adventure Romance"
        ],
        [
         "47",
         "1",
         "943",
         "4.0",
         "964983614",
         "Ghost and Mrs. Muir, The (1947)",
         "Drama|Fantasy|Romance",
         "Drama Fantasy Romance"
        ],
        [
         "48",
         "1",
         "954",
         "5.0",
         "964983219",
         "Mr. Smith Goes to Washington (1939)",
         "Drama",
         "Drama"
        ],
        [
         "49",
         "1",
         "1009",
         "3.0",
         "964981775",
         "Escape to Witch Mountain (1975)",
         "Adventure|Children|Fantasy",
         "Adventure Children Fantasy"
        ]
       ],
       "shape": {
        "columns": 7,
        "rows": 100836
       }
      },
      "text/html": [
       "<div>\n",
       "<style scoped>\n",
       "    .dataframe tbody tr th:only-of-type {\n",
       "        vertical-align: middle;\n",
       "    }\n",
       "\n",
       "    .dataframe tbody tr th {\n",
       "        vertical-align: top;\n",
       "    }\n",
       "\n",
       "    .dataframe thead th {\n",
       "        text-align: right;\n",
       "    }\n",
       "</style>\n",
       "<table border=\"1\" class=\"dataframe\">\n",
       "  <thead>\n",
       "    <tr style=\"text-align: right;\">\n",
       "      <th></th>\n",
       "      <th>userId</th>\n",
       "      <th>movieId</th>\n",
       "      <th>rating</th>\n",
       "      <th>timestamp</th>\n",
       "      <th>title</th>\n",
       "      <th>genres</th>\n",
       "      <th>processed_genres</th>\n",
       "    </tr>\n",
       "  </thead>\n",
       "  <tbody>\n",
       "    <tr>\n",
       "      <th>0</th>\n",
       "      <td>1</td>\n",
       "      <td>1</td>\n",
       "      <td>4.0</td>\n",
       "      <td>964982703</td>\n",
       "      <td>Toy Story (1995)</td>\n",
       "      <td>Adventure|Animation|Children|Comedy|Fantasy</td>\n",
       "      <td>Adventure Animation Children Comedy Fantasy</td>\n",
       "    </tr>\n",
       "    <tr>\n",
       "      <th>1</th>\n",
       "      <td>1</td>\n",
       "      <td>3</td>\n",
       "      <td>4.0</td>\n",
       "      <td>964981247</td>\n",
       "      <td>Grumpier Old Men (1995)</td>\n",
       "      <td>Comedy|Romance</td>\n",
       "      <td>Comedy Romance</td>\n",
       "    </tr>\n",
       "    <tr>\n",
       "      <th>2</th>\n",
       "      <td>1</td>\n",
       "      <td>6</td>\n",
       "      <td>4.0</td>\n",
       "      <td>964982224</td>\n",
       "      <td>Heat (1995)</td>\n",
       "      <td>Action|Crime|Thriller</td>\n",
       "      <td>Action Crime Thriller</td>\n",
       "    </tr>\n",
       "    <tr>\n",
       "      <th>3</th>\n",
       "      <td>1</td>\n",
       "      <td>47</td>\n",
       "      <td>5.0</td>\n",
       "      <td>964983815</td>\n",
       "      <td>Seven (a.k.a. Se7en) (1995)</td>\n",
       "      <td>Mystery|Thriller</td>\n",
       "      <td>Mystery Thriller</td>\n",
       "    </tr>\n",
       "    <tr>\n",
       "      <th>4</th>\n",
       "      <td>1</td>\n",
       "      <td>50</td>\n",
       "      <td>5.0</td>\n",
       "      <td>964982931</td>\n",
       "      <td>Usual Suspects, The (1995)</td>\n",
       "      <td>Crime|Mystery|Thriller</td>\n",
       "      <td>Crime Mystery Thriller</td>\n",
       "    </tr>\n",
       "    <tr>\n",
       "      <th>...</th>\n",
       "      <td>...</td>\n",
       "      <td>...</td>\n",
       "      <td>...</td>\n",
       "      <td>...</td>\n",
       "      <td>...</td>\n",
       "      <td>...</td>\n",
       "      <td>...</td>\n",
       "    </tr>\n",
       "    <tr>\n",
       "      <th>100831</th>\n",
       "      <td>610</td>\n",
       "      <td>166534</td>\n",
       "      <td>4.0</td>\n",
       "      <td>1493848402</td>\n",
       "      <td>Split (2017)</td>\n",
       "      <td>Drama|Horror|Thriller</td>\n",
       "      <td>Drama Horror Thriller</td>\n",
       "    </tr>\n",
       "    <tr>\n",
       "      <th>100832</th>\n",
       "      <td>610</td>\n",
       "      <td>168248</td>\n",
       "      <td>5.0</td>\n",
       "      <td>1493850091</td>\n",
       "      <td>John Wick: Chapter Two (2017)</td>\n",
       "      <td>Action|Crime|Thriller</td>\n",
       "      <td>Action Crime Thriller</td>\n",
       "    </tr>\n",
       "    <tr>\n",
       "      <th>100833</th>\n",
       "      <td>610</td>\n",
       "      <td>168250</td>\n",
       "      <td>5.0</td>\n",
       "      <td>1494273047</td>\n",
       "      <td>Get Out (2017)</td>\n",
       "      <td>Horror</td>\n",
       "      <td>Horror</td>\n",
       "    </tr>\n",
       "    <tr>\n",
       "      <th>100834</th>\n",
       "      <td>610</td>\n",
       "      <td>168252</td>\n",
       "      <td>5.0</td>\n",
       "      <td>1493846352</td>\n",
       "      <td>Logan (2017)</td>\n",
       "      <td>Action|Sci-Fi</td>\n",
       "      <td>Action Sci-Fi</td>\n",
       "    </tr>\n",
       "    <tr>\n",
       "      <th>100835</th>\n",
       "      <td>610</td>\n",
       "      <td>170875</td>\n",
       "      <td>3.0</td>\n",
       "      <td>1493846415</td>\n",
       "      <td>The Fate of the Furious (2017)</td>\n",
       "      <td>Action|Crime|Drama|Thriller</td>\n",
       "      <td>Action Crime Drama Thriller</td>\n",
       "    </tr>\n",
       "  </tbody>\n",
       "</table>\n",
       "<p>100836 rows × 7 columns</p>\n",
       "</div>"
      ],
      "text/plain": [
       "        userId  movieId  rating   timestamp                           title  \\\n",
       "0            1        1     4.0   964982703                Toy Story (1995)   \n",
       "1            1        3     4.0   964981247         Grumpier Old Men (1995)   \n",
       "2            1        6     4.0   964982224                     Heat (1995)   \n",
       "3            1       47     5.0   964983815     Seven (a.k.a. Se7en) (1995)   \n",
       "4            1       50     5.0   964982931      Usual Suspects, The (1995)   \n",
       "...        ...      ...     ...         ...                             ...   \n",
       "100831     610   166534     4.0  1493848402                    Split (2017)   \n",
       "100832     610   168248     5.0  1493850091   John Wick: Chapter Two (2017)   \n",
       "100833     610   168250     5.0  1494273047                  Get Out (2017)   \n",
       "100834     610   168252     5.0  1493846352                    Logan (2017)   \n",
       "100835     610   170875     3.0  1493846415  The Fate of the Furious (2017)   \n",
       "\n",
       "                                             genres  \\\n",
       "0       Adventure|Animation|Children|Comedy|Fantasy   \n",
       "1                                    Comedy|Romance   \n",
       "2                             Action|Crime|Thriller   \n",
       "3                                  Mystery|Thriller   \n",
       "4                            Crime|Mystery|Thriller   \n",
       "...                                             ...   \n",
       "100831                        Drama|Horror|Thriller   \n",
       "100832                        Action|Crime|Thriller   \n",
       "100833                                       Horror   \n",
       "100834                                Action|Sci-Fi   \n",
       "100835                  Action|Crime|Drama|Thriller   \n",
       "\n",
       "                                   processed_genres  \n",
       "0       Adventure Animation Children Comedy Fantasy  \n",
       "1                                    Comedy Romance  \n",
       "2                             Action Crime Thriller  \n",
       "3                                  Mystery Thriller  \n",
       "4                            Crime Mystery Thriller  \n",
       "...                                             ...  \n",
       "100831                        Drama Horror Thriller  \n",
       "100832                        Action Crime Thriller  \n",
       "100833                                       Horror  \n",
       "100834                                Action Sci-Fi  \n",
       "100835                  Action Crime Drama Thriller  \n",
       "\n",
       "[100836 rows x 7 columns]"
      ]
     },
     "execution_count": 14,
     "metadata": {},
     "output_type": "execute_result"
    }
   ],
   "source": [
    "# Bước 4: Kết hợp bảng đánh giá và bảng phim theo movieId\n",
    "ratings_movies_df = pd.merge(ratings_df, movies_df, on='movieId')\n",
    "ratings_movies_df"
   ]
  },
  {
   "cell_type": "code",
   "execution_count": 16,
   "metadata": {},
   "outputs": [
    {
     "data": {
      "application/vnd.microsoft.datawrangler.viewer.v0+json": {
       "columns": [
        {
         "name": "index",
         "rawType": "int64",
         "type": "integer"
        },
        {
         "name": "userId",
         "rawType": "int64",
         "type": "integer"
        },
        {
         "name": "movieId",
         "rawType": "int64",
         "type": "integer"
        },
        {
         "name": "rating",
         "rawType": "float64",
         "type": "float"
        },
        {
         "name": "timestamp",
         "rawType": "int64",
         "type": "integer"
        },
        {
         "name": "title",
         "rawType": "object",
         "type": "string"
        },
        {
         "name": "genres",
         "rawType": "object",
         "type": "string"
        },
        {
         "name": "processed_genres",
         "rawType": "object",
         "type": "string"
        }
       ],
       "conversionMethod": "pd.DataFrame",
       "ref": "63d09fc1-8643-4b46-8330-015bb1a462dc",
       "rows": [
        [
         "0",
         "1",
         "1",
         "4.0",
         "964982703",
         "Toy Story (1995)",
         "Adventure|Animation|Children|Comedy|Fantasy",
         "Adventure Animation Children Comedy Fantasy"
        ],
        [
         "1",
         "1",
         "3",
         "4.0",
         "964981247",
         "Grumpier Old Men (1995)",
         "Comedy|Romance",
         "Comedy Romance"
        ],
        [
         "2",
         "1",
         "6",
         "4.0",
         "964982224",
         "Heat (1995)",
         "Action|Crime|Thriller",
         "Action Crime Thriller"
        ],
        [
         "3",
         "1",
         "47",
         "5.0",
         "964983815",
         "Seven (a.k.a. Se7en) (1995)",
         "Mystery|Thriller",
         "Mystery Thriller"
        ],
        [
         "4",
         "1",
         "50",
         "5.0",
         "964982931",
         "Usual Suspects, The (1995)",
         "Crime|Mystery|Thriller",
         "Crime Mystery Thriller"
        ],
        [
         "5",
         "1",
         "70",
         "3.0",
         "964982400",
         "From Dusk Till Dawn (1996)",
         "Action|Comedy|Horror|Thriller",
         "Action Comedy Horror Thriller"
        ],
        [
         "6",
         "1",
         "101",
         "5.0",
         "964980868",
         "Bottle Rocket (1996)",
         "Adventure|Comedy|Crime|Romance",
         "Adventure Comedy Crime Romance"
        ],
        [
         "7",
         "1",
         "110",
         "4.0",
         "964982176",
         "Braveheart (1995)",
         "Action|Drama|War",
         "Action Drama War"
        ],
        [
         "8",
         "1",
         "151",
         "5.0",
         "964984041",
         "Rob Roy (1995)",
         "Action|Drama|Romance|War",
         "Action Drama Romance War"
        ],
        [
         "9",
         "1",
         "157",
         "5.0",
         "964984100",
         "Canadian Bacon (1995)",
         "Comedy|War",
         "Comedy War"
        ],
        [
         "10",
         "1",
         "163",
         "5.0",
         "964983650",
         "Desperado (1995)",
         "Action|Romance|Western",
         "Action Romance Western"
        ],
        [
         "11",
         "1",
         "216",
         "5.0",
         "964981208",
         "Billy Madison (1995)",
         "Comedy",
         "Comedy"
        ],
        [
         "12",
         "1",
         "223",
         "3.0",
         "964980985",
         "Clerks (1994)",
         "Comedy",
         "Comedy"
        ],
        [
         "13",
         "1",
         "231",
         "5.0",
         "964981179",
         "Dumb & Dumber (Dumb and Dumber) (1994)",
         "Adventure|Comedy",
         "Adventure Comedy"
        ],
        [
         "14",
         "1",
         "235",
         "4.0",
         "964980908",
         "Ed Wood (1994)",
         "Comedy|Drama",
         "Comedy Drama"
        ],
        [
         "15",
         "1",
         "260",
         "5.0",
         "964981680",
         "Star Wars: Episode IV - A New Hope (1977)",
         "Action|Adventure|Sci-Fi",
         "Action Adventure Sci-Fi"
        ],
        [
         "16",
         "1",
         "296",
         "3.0",
         "964982967",
         "Pulp Fiction (1994)",
         "Comedy|Crime|Drama|Thriller",
         "Comedy Crime Drama Thriller"
        ],
        [
         "17",
         "1",
         "316",
         "3.0",
         "964982310",
         "Stargate (1994)",
         "Action|Adventure|Sci-Fi",
         "Action Adventure Sci-Fi"
        ],
        [
         "18",
         "1",
         "333",
         "5.0",
         "964981179",
         "Tommy Boy (1995)",
         "Comedy",
         "Comedy"
        ],
        [
         "19",
         "1",
         "349",
         "4.0",
         "964982563",
         "Clear and Present Danger (1994)",
         "Action|Crime|Drama|Thriller",
         "Action Crime Drama Thriller"
        ],
        [
         "20",
         "1",
         "356",
         "4.0",
         "964980962",
         "Forrest Gump (1994)",
         "Comedy|Drama|Romance|War",
         "Comedy Drama Romance War"
        ],
        [
         "21",
         "1",
         "362",
         "5.0",
         "964982588",
         "Jungle Book, The (1994)",
         "Adventure|Children|Romance",
         "Adventure Children Romance"
        ],
        [
         "22",
         "1",
         "367",
         "4.0",
         "964981710",
         "Mask, The (1994)",
         "Action|Comedy|Crime|Fantasy",
         "Action Comedy Crime Fantasy"
        ],
        [
         "23",
         "1",
         "423",
         "3.0",
         "964982363",
         "Blown Away (1994)",
         "Action|Thriller",
         "Action Thriller"
        ],
        [
         "24",
         "1",
         "441",
         "4.0",
         "964980868",
         "Dazed and Confused (1993)",
         "Comedy",
         "Comedy"
        ],
        [
         "25",
         "1",
         "457",
         "5.0",
         "964981909",
         "Fugitive, The (1993)",
         "Thriller",
         "Thriller"
        ],
        [
         "26",
         "1",
         "480",
         "4.0",
         "964982346",
         "Jurassic Park (1993)",
         "Action|Adventure|Sci-Fi|Thriller",
         "Action Adventure Sci-Fi Thriller"
        ],
        [
         "27",
         "1",
         "500",
         "3.0",
         "964981208",
         "Mrs. Doubtfire (1993)",
         "Comedy|Drama",
         "Comedy Drama"
        ],
        [
         "28",
         "1",
         "527",
         "5.0",
         "964984002",
         "Schindler's List (1993)",
         "Drama|War",
         "Drama War"
        ],
        [
         "29",
         "1",
         "543",
         "4.0",
         "964981179",
         "So I Married an Axe Murderer (1993)",
         "Comedy|Romance|Thriller",
         "Comedy Romance Thriller"
        ],
        [
         "30",
         "1",
         "552",
         "4.0",
         "964982653",
         "Three Musketeers, The (1993)",
         "Action|Adventure|Comedy|Romance",
         "Action Adventure Comedy Romance"
        ],
        [
         "31",
         "1",
         "553",
         "5.0",
         "964984153",
         "Tombstone (1993)",
         "Action|Drama|Western",
         "Action Drama Western"
        ],
        [
         "32",
         "1",
         "590",
         "4.0",
         "964982546",
         "Dances with Wolves (1990)",
         "Adventure|Drama|Western",
         "Adventure Drama Western"
        ],
        [
         "33",
         "1",
         "592",
         "4.0",
         "964982271",
         "Batman (1989)",
         "Action|Crime|Thriller",
         "Action Crime Thriller"
        ],
        [
         "34",
         "1",
         "593",
         "4.0",
         "964983793",
         "Silence of the Lambs, The (1991)",
         "Crime|Horror|Thriller",
         "Crime Horror Thriller"
        ],
        [
         "35",
         "1",
         "596",
         "5.0",
         "964982838",
         "Pinocchio (1940)",
         "Animation|Children|Fantasy|Musical",
         "Animation Children Fantasy Musical"
        ],
        [
         "36",
         "1",
         "608",
         "5.0",
         "964982931",
         "Fargo (1996)",
         "Comedy|Crime|Drama|Thriller",
         "Comedy Crime Drama Thriller"
        ],
        [
         "37",
         "1",
         "648",
         "3.0",
         "964982563",
         "Mission: Impossible (1996)",
         "Action|Adventure|Mystery|Thriller",
         "Action Adventure Mystery Thriller"
        ],
        [
         "38",
         "1",
         "661",
         "5.0",
         "964982838",
         "James and the Giant Peach (1996)",
         "Adventure|Animation|Children|Fantasy|Musical",
         "Adventure Animation Children Fantasy Musical"
        ],
        [
         "39",
         "1",
         "673",
         "3.0",
         "964981775",
         "Space Jam (1996)",
         "Adventure|Animation|Children|Comedy|Fantasy|Sci-Fi",
         "Adventure Animation Children Comedy Fantasy Sci-Fi"
        ],
        [
         "40",
         "1",
         "733",
         "4.0",
         "964982400",
         "Rock, The (1996)",
         "Action|Adventure|Thriller",
         "Action Adventure Thriller"
        ],
        [
         "41",
         "1",
         "736",
         "3.0",
         "964982653",
         "Twister (1996)",
         "Action|Adventure|Romance|Thriller",
         "Action Adventure Romance Thriller"
        ],
        [
         "42",
         "1",
         "780",
         "3.0",
         "964984086",
         "Independence Day (a.k.a. ID4) (1996)",
         "Action|Adventure|Sci-Fi|Thriller",
         "Action Adventure Sci-Fi Thriller"
        ],
        [
         "43",
         "1",
         "804",
         "4.0",
         "964980499",
         "She's the One (1996)",
         "Comedy|Romance",
         "Comedy Romance"
        ],
        [
         "44",
         "1",
         "919",
         "5.0",
         "964982475",
         "Wizard of Oz, The (1939)",
         "Adventure|Children|Fantasy|Musical",
         "Adventure Children Fantasy Musical"
        ],
        [
         "45",
         "1",
         "923",
         "5.0",
         "964981529",
         "Citizen Kane (1941)",
         "Drama|Mystery",
         "Drama Mystery"
        ],
        [
         "46",
         "1",
         "940",
         "5.0",
         "964982176",
         "Adventures of Robin Hood, The (1938)",
         "Action|Adventure|Romance",
         "Action Adventure Romance"
        ],
        [
         "47",
         "1",
         "943",
         "4.0",
         "964983614",
         "Ghost and Mrs. Muir, The (1947)",
         "Drama|Fantasy|Romance",
         "Drama Fantasy Romance"
        ],
        [
         "48",
         "1",
         "954",
         "5.0",
         "964983219",
         "Mr. Smith Goes to Washington (1939)",
         "Drama",
         "Drama"
        ],
        [
         "49",
         "1",
         "1009",
         "3.0",
         "964981775",
         "Escape to Witch Mountain (1975)",
         "Adventure|Children|Fantasy",
         "Adventure Children Fantasy"
        ]
       ],
       "shape": {
        "columns": 7,
        "rows": 232
       }
      },
      "text/html": [
       "<div>\n",
       "<style scoped>\n",
       "    .dataframe tbody tr th:only-of-type {\n",
       "        vertical-align: middle;\n",
       "    }\n",
       "\n",
       "    .dataframe tbody tr th {\n",
       "        vertical-align: top;\n",
       "    }\n",
       "\n",
       "    .dataframe thead th {\n",
       "        text-align: right;\n",
       "    }\n",
       "</style>\n",
       "<table border=\"1\" class=\"dataframe\">\n",
       "  <thead>\n",
       "    <tr style=\"text-align: right;\">\n",
       "      <th></th>\n",
       "      <th>userId</th>\n",
       "      <th>movieId</th>\n",
       "      <th>rating</th>\n",
       "      <th>timestamp</th>\n",
       "      <th>title</th>\n",
       "      <th>genres</th>\n",
       "      <th>processed_genres</th>\n",
       "    </tr>\n",
       "  </thead>\n",
       "  <tbody>\n",
       "    <tr>\n",
       "      <th>0</th>\n",
       "      <td>1</td>\n",
       "      <td>1</td>\n",
       "      <td>4.0</td>\n",
       "      <td>964982703</td>\n",
       "      <td>Toy Story (1995)</td>\n",
       "      <td>Adventure|Animation|Children|Comedy|Fantasy</td>\n",
       "      <td>Adventure Animation Children Comedy Fantasy</td>\n",
       "    </tr>\n",
       "    <tr>\n",
       "      <th>1</th>\n",
       "      <td>1</td>\n",
       "      <td>3</td>\n",
       "      <td>4.0</td>\n",
       "      <td>964981247</td>\n",
       "      <td>Grumpier Old Men (1995)</td>\n",
       "      <td>Comedy|Romance</td>\n",
       "      <td>Comedy Romance</td>\n",
       "    </tr>\n",
       "    <tr>\n",
       "      <th>2</th>\n",
       "      <td>1</td>\n",
       "      <td>6</td>\n",
       "      <td>4.0</td>\n",
       "      <td>964982224</td>\n",
       "      <td>Heat (1995)</td>\n",
       "      <td>Action|Crime|Thriller</td>\n",
       "      <td>Action Crime Thriller</td>\n",
       "    </tr>\n",
       "    <tr>\n",
       "      <th>3</th>\n",
       "      <td>1</td>\n",
       "      <td>47</td>\n",
       "      <td>5.0</td>\n",
       "      <td>964983815</td>\n",
       "      <td>Seven (a.k.a. Se7en) (1995)</td>\n",
       "      <td>Mystery|Thriller</td>\n",
       "      <td>Mystery Thriller</td>\n",
       "    </tr>\n",
       "    <tr>\n",
       "      <th>4</th>\n",
       "      <td>1</td>\n",
       "      <td>50</td>\n",
       "      <td>5.0</td>\n",
       "      <td>964982931</td>\n",
       "      <td>Usual Suspects, The (1995)</td>\n",
       "      <td>Crime|Mystery|Thriller</td>\n",
       "      <td>Crime Mystery Thriller</td>\n",
       "    </tr>\n",
       "    <tr>\n",
       "      <th>...</th>\n",
       "      <td>...</td>\n",
       "      <td>...</td>\n",
       "      <td>...</td>\n",
       "      <td>...</td>\n",
       "      <td>...</td>\n",
       "      <td>...</td>\n",
       "      <td>...</td>\n",
       "    </tr>\n",
       "    <tr>\n",
       "      <th>227</th>\n",
       "      <td>1</td>\n",
       "      <td>3744</td>\n",
       "      <td>4.0</td>\n",
       "      <td>964980694</td>\n",
       "      <td>Shaft (2000)</td>\n",
       "      <td>Action|Crime|Thriller</td>\n",
       "      <td>Action Crime Thriller</td>\n",
       "    </tr>\n",
       "    <tr>\n",
       "      <th>228</th>\n",
       "      <td>1</td>\n",
       "      <td>3793</td>\n",
       "      <td>5.0</td>\n",
       "      <td>964981855</td>\n",
       "      <td>X-Men (2000)</td>\n",
       "      <td>Action|Adventure|Sci-Fi</td>\n",
       "      <td>Action Adventure Sci-Fi</td>\n",
       "    </tr>\n",
       "    <tr>\n",
       "      <th>229</th>\n",
       "      <td>1</td>\n",
       "      <td>3809</td>\n",
       "      <td>4.0</td>\n",
       "      <td>964981220</td>\n",
       "      <td>What About Bob? (1991)</td>\n",
       "      <td>Comedy</td>\n",
       "      <td>Comedy</td>\n",
       "    </tr>\n",
       "    <tr>\n",
       "      <th>230</th>\n",
       "      <td>1</td>\n",
       "      <td>4006</td>\n",
       "      <td>4.0</td>\n",
       "      <td>964982903</td>\n",
       "      <td>Transformers: The Movie (1986)</td>\n",
       "      <td>Adventure|Animation|Children|Sci-Fi</td>\n",
       "      <td>Adventure Animation Children Sci-Fi</td>\n",
       "    </tr>\n",
       "    <tr>\n",
       "      <th>231</th>\n",
       "      <td>1</td>\n",
       "      <td>5060</td>\n",
       "      <td>5.0</td>\n",
       "      <td>964984002</td>\n",
       "      <td>M*A*S*H (a.k.a. MASH) (1970)</td>\n",
       "      <td>Comedy|Drama|War</td>\n",
       "      <td>Comedy Drama War</td>\n",
       "    </tr>\n",
       "  </tbody>\n",
       "</table>\n",
       "<p>232 rows × 7 columns</p>\n",
       "</div>"
      ],
      "text/plain": [
       "     userId  movieId  rating  timestamp                           title  \\\n",
       "0         1        1     4.0  964982703                Toy Story (1995)   \n",
       "1         1        3     4.0  964981247         Grumpier Old Men (1995)   \n",
       "2         1        6     4.0  964982224                     Heat (1995)   \n",
       "3         1       47     5.0  964983815     Seven (a.k.a. Se7en) (1995)   \n",
       "4         1       50     5.0  964982931      Usual Suspects, The (1995)   \n",
       "..      ...      ...     ...        ...                             ...   \n",
       "227       1     3744     4.0  964980694                    Shaft (2000)   \n",
       "228       1     3793     5.0  964981855                    X-Men (2000)   \n",
       "229       1     3809     4.0  964981220          What About Bob? (1991)   \n",
       "230       1     4006     4.0  964982903  Transformers: The Movie (1986)   \n",
       "231       1     5060     5.0  964984002    M*A*S*H (a.k.a. MASH) (1970)   \n",
       "\n",
       "                                          genres  \\\n",
       "0    Adventure|Animation|Children|Comedy|Fantasy   \n",
       "1                                 Comedy|Romance   \n",
       "2                          Action|Crime|Thriller   \n",
       "3                               Mystery|Thriller   \n",
       "4                         Crime|Mystery|Thriller   \n",
       "..                                           ...   \n",
       "227                        Action|Crime|Thriller   \n",
       "228                      Action|Adventure|Sci-Fi   \n",
       "229                                       Comedy   \n",
       "230          Adventure|Animation|Children|Sci-Fi   \n",
       "231                             Comedy|Drama|War   \n",
       "\n",
       "                                processed_genres  \n",
       "0    Adventure Animation Children Comedy Fantasy  \n",
       "1                                 Comedy Romance  \n",
       "2                          Action Crime Thriller  \n",
       "3                               Mystery Thriller  \n",
       "4                         Crime Mystery Thriller  \n",
       "..                                           ...  \n",
       "227                        Action Crime Thriller  \n",
       "228                      Action Adventure Sci-Fi  \n",
       "229                                       Comedy  \n",
       "230          Adventure Animation Children Sci-Fi  \n",
       "231                             Comedy Drama War  \n",
       "\n",
       "[232 rows x 7 columns]"
      ]
     },
     "execution_count": 16,
     "metadata": {},
     "output_type": "execute_result"
    }
   ],
   "source": [
    "# Bước 5: Chọn một người dùng cụ thể để gợi ý (ví dụ: người dùng có userId = 1)\n",
    "user_id = 1\n",
    "user_ratings = ratings_movies_df[ratings_movies_df['userId'] == user_id]\n",
    "user_ratings"
   ]
  },
  {
   "cell_type": "code",
   "execution_count": 18,
   "metadata": {},
   "outputs": [
    {
     "data": {
      "text/plain": [
       "Index([   0,    2,    5,   43,   46,   89,   97,  124,  130,  136,\n",
       "       ...\n",
       "       2733, 2764, 2765, 2788, 2798, 2802, 2836, 2847, 2991, 3673],\n",
       "      dtype='int64', length=200)"
      ]
     },
     "execution_count": 18,
     "metadata": {},
     "output_type": "execute_result"
    }
   ],
   "source": [
    "# Bước 6: Lọc các phim mà người dùng đánh giá từ 4.0 trở lên (xem như người dùng thích)\n",
    "liked_movies = user_ratings[user_ratings['rating'] >= 4.0]\n",
    "\n",
    "# Bước 7: Lấy chỉ số các phim mà người dùng này thích\n",
    "liked_movie_indices = movies_df[movies_df['movieId'].isin(liked_movies['movieId'])].index\n",
    "liked_movie_indices"
   ]
  },
  {
   "cell_type": "code",
   "execution_count": 25,
   "metadata": {},
   "outputs": [
    {
     "data": {
      "text/plain": [
       "array([[0.18861407, 0.19786614, 0.07235146, 0.09884635, 0.17273064,\n",
       "        0.12285831, 0.        , 0.12941243, 0.12326354, 0.08396007,\n",
       "        0.00290702, 0.        , 0.03234403, 0.        , 0.        ,\n",
       "        0.06375878, 0.04341391, 0.        , 0.00290702, 0.07236682,\n",
       "        0.08396007, 0.10899999, 0.08006397, 0.02486895]])"
      ]
     },
     "execution_count": 25,
     "metadata": {},
     "output_type": "execute_result"
    }
   ],
   "source": [
    "# Bước 8: Tính hồ sơ người dùng bằng trung bình TF-IDF của các phim đã thích\n",
    "user_profile = np.asarray(tfidf_matrix[liked_movie_indices].mean(axis=0))\n",
    "user_profile"
   ]
  },
  {
   "cell_type": "code",
   "execution_count": 26,
   "metadata": {},
   "outputs": [
    {
     "data": {
      "text/plain": [
       "array([0.59851505, 0.51249327, 0.343328  , ..., 0.2811578 , 0.36530396,\n",
       "       0.3752697 ])"
      ]
     },
     "execution_count": 26,
     "metadata": {},
     "output_type": "execute_result"
    }
   ],
   "source": [
    "# Bước 9: Tính độ tương đồng cosine giữa hồ sơ người dùng và tất cả các phim\n",
    "similarities = cosine_similarity(user_profile, tfidf_matrix).flatten()\n",
    "similarities"
   ]
  },
  {
   "cell_type": "code",
   "execution_count": 27,
   "metadata": {},
   "outputs": [
    {
     "data": {
      "application/vnd.microsoft.datawrangler.viewer.v0+json": {
       "columns": [
        {
         "name": "index",
         "rawType": "int64",
         "type": "integer"
        },
        {
         "name": "movieId",
         "rawType": "int64",
         "type": "integer"
        },
        {
         "name": "title",
         "rawType": "object",
         "type": "string"
        },
        {
         "name": "genres",
         "rawType": "object",
         "type": "string"
        },
        {
         "name": "processed_genres",
         "rawType": "object",
         "type": "string"
        },
        {
         "name": "similarity",
         "rawType": "float64",
         "type": "float"
        }
       ],
       "conversionMethod": "pd.DataFrame",
       "ref": "6f9ec701-83f8-4693-87ca-a576d9a9d070",
       "rows": [
        [
         "0",
         "1",
         "Toy Story (1995)",
         "Adventure|Animation|Children|Comedy|Fantasy",
         "Adventure Animation Children Comedy Fantasy",
         "0.5985150481786119"
        ],
        [
         "1",
         "2",
         "Jumanji (1995)",
         "Adventure|Children|Fantasy",
         "Adventure Children Fantasy",
         "0.5124932741986525"
        ],
        [
         "2",
         "3",
         "Grumpier Old Men (1995)",
         "Comedy|Romance",
         "Comedy Romance",
         "0.34332800252811463"
        ],
        [
         "3",
         "4",
         "Waiting to Exhale (1995)",
         "Comedy|Drama|Romance",
         "Comedy Drama Romance",
         "0.4348314780187451"
        ],
        [
         "4",
         "5",
         "Father of the Bride Part II (1995)",
         "Comedy",
         "Comedy",
         "0.37526970174077207"
        ],
        [
         "5",
         "6",
         "Heat (1995)",
         "Action|Crime|Thriller",
         "Action Crime Thriller",
         "0.5232096112379276"
        ],
        [
         "6",
         "7",
         "Sabrina (1995)",
         "Comedy|Romance",
         "Comedy Romance",
         "0.34332800252811463"
        ],
        [
         "7",
         "8",
         "Tom and Huck (1995)",
         "Adventure|Children",
         "Adventure Children",
         "0.4393002072294948"
        ],
        [
         "8",
         "9",
         "Sudden Death (1995)",
         "Action",
         "Action",
         "0.4097775875980376"
        ],
        [
         "9",
         "10",
         "GoldenEye (1995)",
         "Action|Adventure|Thriller",
         "Action Adventure Thriller",
         "0.6264860081807574"
        ],
        [
         "10",
         "11",
         "American President, The (1995)",
         "Comedy|Drama|Romance",
         "Comedy Drama Romance",
         "0.4348314780187451"
        ],
        [
         "11",
         "12",
         "Dracula: Dead and Loving It (1995)",
         "Comedy|Horror",
         "Comedy Horror",
         "0.25168159727696887"
        ],
        [
         "12",
         "13",
         "Balto (1995)",
         "Adventure|Animation|Children",
         "Adventure Animation Children",
         "0.4422900323325448"
        ],
        [
         "13",
         "14",
         "Nixon (1995)",
         "Drama",
         "Drama",
         "0.28115779617251163"
        ],
        [
         "14",
         "15",
         "Cutthroat Island (1995)",
         "Action|Adventure|Romance",
         "Action Adventure Romance",
         "0.5772172018848956"
        ],
        [
         "15",
         "16",
         "Casino (1995)",
         "Crime|Drama",
         "Crime Drama",
         "0.3721905930928631"
        ],
        [
         "16",
         "17",
         "Sense and Sensibility (1995)",
         "Drama|Romance",
         "Drama Romance",
         "0.2842214743621766"
        ],
        [
         "17",
         "18",
         "Four Rooms (1995)",
         "Comedy",
         "Comedy",
         "0.37526970174077207"
        ],
        [
         "18",
         "19",
         "Ace Ventura: When Nature Calls (1995)",
         "Comedy",
         "Comedy",
         "0.37526970174077207"
        ],
        [
         "19",
         "20",
         "Money Train (1995)",
         "Action|Comedy|Crime|Drama|Thriller",
         "Action Comedy Crime Drama Thriller",
         "0.6827913888611048"
        ],
        [
         "20",
         "21",
         "Get Shorty (1995)",
         "Comedy|Crime|Thriller",
         "Comedy Crime Thriller",
         "0.48406563449984147"
        ],
        [
         "21",
         "22",
         "Copycat (1995)",
         "Crime|Drama|Horror|Mystery|Thriller",
         "Crime Drama Horror Mystery Thriller",
         "0.3788069689342643"
        ],
        [
         "22",
         "23",
         "Assassins (1995)",
         "Action|Crime|Thriller",
         "Action Crime Thriller",
         "0.5232096112379276"
        ],
        [
         "23",
         "24",
         "Powder (1995)",
         "Drama|Sci-Fi",
         "Drama Sci-Fi",
         "0.34204829024525707"
        ],
        [
         "24",
         "25",
         "Leaving Las Vegas (1995)",
         "Drama|Romance",
         "Drama Romance",
         "0.2842214743621766"
        ],
        [
         "25",
         "26",
         "Othello (1995)",
         "Drama",
         "Drama",
         "0.28115779617251163"
        ],
        [
         "26",
         "27",
         "Now and Then (1995)",
         "Children|Drama",
         "Children Drama",
         "0.316495729117168"
        ],
        [
         "27",
         "28",
         "Persuasion (1995)",
         "Drama|Romance",
         "Drama Romance",
         "0.2842214743621766"
        ],
        [
         "28",
         "29",
         "City of Lost Children, The (Cité des enfants perdus, La) (1995)",
         "Adventure|Drama|Fantasy|Mystery|Sci-Fi",
         "Adventure Drama Fantasy Mystery Sci-Fi",
         "0.5519242629016393"
        ],
        [
         "29",
         "30",
         "Shanghai Triad (Yao a yao yao dao waipo qiao) (1995)",
         "Crime|Drama",
         "Crime Drama",
         "0.3721905930928631"
        ],
        [
         "30",
         "31",
         "Dangerous Minds (1995)",
         "Drama",
         "Drama",
         "0.28115779617251163"
        ],
        [
         "31",
         "32",
         "Twelve Monkeys (a.k.a. 12 Monkeys) (1995)",
         "Mystery|Sci-Fi|Thriller",
         "Mystery Sci-Fi Thriller",
         "0.33231988466394635"
        ],
        [
         "32",
         "34",
         "Babe (1995)",
         "Children|Drama",
         "Children Drama",
         "0.316495729117168"
        ],
        [
         "33",
         "36",
         "Dead Man Walking (1995)",
         "Crime|Drama",
         "Crime Drama",
         "0.3721905930928631"
        ],
        [
         "34",
         "38",
         "It Takes Two (1995)",
         "Children|Comedy",
         "Children Comedy",
         "0.36549094522970815"
        ],
        [
         "35",
         "39",
         "Clueless (1995)",
         "Comedy|Romance",
         "Comedy Romance",
         "0.34332800252811463"
        ],
        [
         "36",
         "40",
         "Cry, the Beloved Country (1995)",
         "Drama",
         "Drama",
         "0.28115779617251163"
        ],
        [
         "37",
         "41",
         "Richard III (1995)",
         "Drama|War",
         "Drama War",
         "0.2701810358950556"
        ],
        [
         "38",
         "42",
         "Dead Presidents (1995)",
         "Action|Crime|Drama",
         "Action Crime Drama",
         "0.5433675260794587"
        ],
        [
         "39",
         "43",
         "Restoration (1995)",
         "Drama",
         "Drama",
         "0.28115779617251163"
        ],
        [
         "40",
         "44",
         "Mortal Kombat (1995)",
         "Action|Adventure|Fantasy",
         "Action Adventure Fantasy",
         "0.6234160428951759"
        ],
        [
         "41",
         "45",
         "To Die For (1995)",
         "Comedy|Drama|Thriller",
         "Comedy Drama Thriller",
         "0.49791519131588674"
        ],
        [
         "42",
         "46",
         "How to Make an American Quilt (1995)",
         "Drama|Romance",
         "Drama Romance",
         "0.2842214743621766"
        ],
        [
         "43",
         "47",
         "Seven (a.k.a. Se7en) (1995)",
         "Mystery|Thriller",
         "Mystery Thriller",
         "0.21195997784017956"
        ],
        [
         "44",
         "48",
         "Pocahontas (1995)",
         "Animation|Children|Drama|Musical|Romance",
         "Animation Children Drama Musical Romance",
         "0.3856800973251279"
        ],
        [
         "45",
         "49",
         "When Night Is Falling (1995)",
         "Drama|Romance",
         "Drama Romance",
         "0.2842214743621766"
        ],
        [
         "46",
         "50",
         "Usual Suspects, The (1995)",
         "Crime|Mystery|Thriller",
         "Crime Mystery Thriller",
         "0.3243146350228666"
        ],
        [
         "47",
         "52",
         "Mighty Aphrodite (1995)",
         "Comedy|Drama|Romance",
         "Comedy Drama Romance",
         "0.4348314780187451"
        ],
        [
         "48",
         "53",
         "Lamerica (1994)",
         "Adventure|Drama",
         "Adventure Drama",
         "0.5131600170295744"
        ],
        [
         "49",
         "54",
         "Big Green, The (1995)",
         "Children|Comedy",
         "Children Comedy",
         "0.36549094522970815"
        ]
       ],
       "shape": {
        "columns": 5,
        "rows": 9742
       }
      },
      "text/html": [
       "<div>\n",
       "<style scoped>\n",
       "    .dataframe tbody tr th:only-of-type {\n",
       "        vertical-align: middle;\n",
       "    }\n",
       "\n",
       "    .dataframe tbody tr th {\n",
       "        vertical-align: top;\n",
       "    }\n",
       "\n",
       "    .dataframe thead th {\n",
       "        text-align: right;\n",
       "    }\n",
       "</style>\n",
       "<table border=\"1\" class=\"dataframe\">\n",
       "  <thead>\n",
       "    <tr style=\"text-align: right;\">\n",
       "      <th></th>\n",
       "      <th>movieId</th>\n",
       "      <th>title</th>\n",
       "      <th>genres</th>\n",
       "      <th>processed_genres</th>\n",
       "      <th>similarity</th>\n",
       "    </tr>\n",
       "  </thead>\n",
       "  <tbody>\n",
       "    <tr>\n",
       "      <th>0</th>\n",
       "      <td>1</td>\n",
       "      <td>Toy Story (1995)</td>\n",
       "      <td>Adventure|Animation|Children|Comedy|Fantasy</td>\n",
       "      <td>Adventure Animation Children Comedy Fantasy</td>\n",
       "      <td>0.598515</td>\n",
       "    </tr>\n",
       "    <tr>\n",
       "      <th>1</th>\n",
       "      <td>2</td>\n",
       "      <td>Jumanji (1995)</td>\n",
       "      <td>Adventure|Children|Fantasy</td>\n",
       "      <td>Adventure Children Fantasy</td>\n",
       "      <td>0.512493</td>\n",
       "    </tr>\n",
       "    <tr>\n",
       "      <th>2</th>\n",
       "      <td>3</td>\n",
       "      <td>Grumpier Old Men (1995)</td>\n",
       "      <td>Comedy|Romance</td>\n",
       "      <td>Comedy Romance</td>\n",
       "      <td>0.343328</td>\n",
       "    </tr>\n",
       "    <tr>\n",
       "      <th>3</th>\n",
       "      <td>4</td>\n",
       "      <td>Waiting to Exhale (1995)</td>\n",
       "      <td>Comedy|Drama|Romance</td>\n",
       "      <td>Comedy Drama Romance</td>\n",
       "      <td>0.434831</td>\n",
       "    </tr>\n",
       "    <tr>\n",
       "      <th>4</th>\n",
       "      <td>5</td>\n",
       "      <td>Father of the Bride Part II (1995)</td>\n",
       "      <td>Comedy</td>\n",
       "      <td>Comedy</td>\n",
       "      <td>0.375270</td>\n",
       "    </tr>\n",
       "    <tr>\n",
       "      <th>...</th>\n",
       "      <td>...</td>\n",
       "      <td>...</td>\n",
       "      <td>...</td>\n",
       "      <td>...</td>\n",
       "      <td>...</td>\n",
       "    </tr>\n",
       "    <tr>\n",
       "      <th>9737</th>\n",
       "      <td>193581</td>\n",
       "      <td>Black Butler: Book of the Atlantic (2017)</td>\n",
       "      <td>Action|Animation|Comedy|Fantasy</td>\n",
       "      <td>Action Animation Comedy Fantasy</td>\n",
       "      <td>0.548823</td>\n",
       "    </tr>\n",
       "    <tr>\n",
       "      <th>9738</th>\n",
       "      <td>193583</td>\n",
       "      <td>No Game No Life: Zero (2017)</td>\n",
       "      <td>Animation|Comedy|Fantasy</td>\n",
       "      <td>Animation Comedy Fantasy</td>\n",
       "      <td>0.411311</td>\n",
       "    </tr>\n",
       "    <tr>\n",
       "      <th>9739</th>\n",
       "      <td>193585</td>\n",
       "      <td>Flint (2017)</td>\n",
       "      <td>Drama</td>\n",
       "      <td>Drama</td>\n",
       "      <td>0.281158</td>\n",
       "    </tr>\n",
       "    <tr>\n",
       "      <th>9740</th>\n",
       "      <td>193587</td>\n",
       "      <td>Bungo Stray Dogs: Dead Apple (2018)</td>\n",
       "      <td>Action|Animation</td>\n",
       "      <td>Action Animation</td>\n",
       "      <td>0.365304</td>\n",
       "    </tr>\n",
       "    <tr>\n",
       "      <th>9741</th>\n",
       "      <td>193609</td>\n",
       "      <td>Andrew Dice Clay: Dice Rules (1991)</td>\n",
       "      <td>Comedy</td>\n",
       "      <td>Comedy</td>\n",
       "      <td>0.375270</td>\n",
       "    </tr>\n",
       "  </tbody>\n",
       "</table>\n",
       "<p>9742 rows × 5 columns</p>\n",
       "</div>"
      ],
      "text/plain": [
       "      movieId                                      title  \\\n",
       "0           1                           Toy Story (1995)   \n",
       "1           2                             Jumanji (1995)   \n",
       "2           3                    Grumpier Old Men (1995)   \n",
       "3           4                   Waiting to Exhale (1995)   \n",
       "4           5         Father of the Bride Part II (1995)   \n",
       "...       ...                                        ...   \n",
       "9737   193581  Black Butler: Book of the Atlantic (2017)   \n",
       "9738   193583               No Game No Life: Zero (2017)   \n",
       "9739   193585                               Flint (2017)   \n",
       "9740   193587        Bungo Stray Dogs: Dead Apple (2018)   \n",
       "9741   193609        Andrew Dice Clay: Dice Rules (1991)   \n",
       "\n",
       "                                           genres  \\\n",
       "0     Adventure|Animation|Children|Comedy|Fantasy   \n",
       "1                      Adventure|Children|Fantasy   \n",
       "2                                  Comedy|Romance   \n",
       "3                            Comedy|Drama|Romance   \n",
       "4                                          Comedy   \n",
       "...                                           ...   \n",
       "9737              Action|Animation|Comedy|Fantasy   \n",
       "9738                     Animation|Comedy|Fantasy   \n",
       "9739                                        Drama   \n",
       "9740                             Action|Animation   \n",
       "9741                                       Comedy   \n",
       "\n",
       "                                 processed_genres  similarity  \n",
       "0     Adventure Animation Children Comedy Fantasy    0.598515  \n",
       "1                      Adventure Children Fantasy    0.512493  \n",
       "2                                  Comedy Romance    0.343328  \n",
       "3                            Comedy Drama Romance    0.434831  \n",
       "4                                          Comedy    0.375270  \n",
       "...                                           ...         ...  \n",
       "9737              Action Animation Comedy Fantasy    0.548823  \n",
       "9738                     Animation Comedy Fantasy    0.411311  \n",
       "9739                                        Drama    0.281158  \n",
       "9740                             Action Animation    0.365304  \n",
       "9741                                       Comedy    0.375270  \n",
       "\n",
       "[9742 rows x 5 columns]"
      ]
     },
     "execution_count": 27,
     "metadata": {},
     "output_type": "execute_result"
    }
   ],
   "source": [
    "# Bước 10: Gán điểm tương đồng vào bảng phim\n",
    "movies_df['similarity'] = similarities\n",
    "movies_df"
   ]
  },
  {
   "cell_type": "code",
   "execution_count": 29,
   "metadata": {},
   "outputs": [
    {
     "data": {
      "application/vnd.microsoft.datawrangler.viewer.v0+json": {
       "columns": [
        {
         "name": "index",
         "rawType": "int64",
         "type": "integer"
        },
        {
         "name": "movieId",
         "rawType": "int64",
         "type": "integer"
        },
        {
         "name": "title",
         "rawType": "object",
         "type": "string"
        },
        {
         "name": "genres",
         "rawType": "object",
         "type": "string"
        },
        {
         "name": "processed_genres",
         "rawType": "object",
         "type": "string"
        },
        {
         "name": "similarity",
         "rawType": "float64",
         "type": "float"
        }
       ],
       "conversionMethod": "pd.DataFrame",
       "ref": "0d20b576-82b8-492b-a546-5666afe5dc2e",
       "rows": [
        [
         "1",
         "2",
         "Jumanji (1995)",
         "Adventure|Children|Fantasy",
         "Adventure Children Fantasy",
         "0.5124932741986525"
        ],
        [
         "3",
         "4",
         "Waiting to Exhale (1995)",
         "Comedy|Drama|Romance",
         "Comedy Drama Romance",
         "0.4348314780187451"
        ],
        [
         "4",
         "5",
         "Father of the Bride Part II (1995)",
         "Comedy",
         "Comedy",
         "0.37526970174077207"
        ],
        [
         "6",
         "7",
         "Sabrina (1995)",
         "Comedy|Romance",
         "Comedy Romance",
         "0.34332800252811463"
        ],
        [
         "7",
         "8",
         "Tom and Huck (1995)",
         "Adventure|Children",
         "Adventure Children",
         "0.4393002072294948"
        ],
        [
         "8",
         "9",
         "Sudden Death (1995)",
         "Action",
         "Action",
         "0.4097775875980376"
        ],
        [
         "9",
         "10",
         "GoldenEye (1995)",
         "Action|Adventure|Thriller",
         "Action Adventure Thriller",
         "0.6264860081807574"
        ],
        [
         "10",
         "11",
         "American President, The (1995)",
         "Comedy|Drama|Romance",
         "Comedy Drama Romance",
         "0.4348314780187451"
        ],
        [
         "11",
         "12",
         "Dracula: Dead and Loving It (1995)",
         "Comedy|Horror",
         "Comedy Horror",
         "0.25168159727696887"
        ],
        [
         "12",
         "13",
         "Balto (1995)",
         "Adventure|Animation|Children",
         "Adventure Animation Children",
         "0.4422900323325448"
        ],
        [
         "13",
         "14",
         "Nixon (1995)",
         "Drama",
         "Drama",
         "0.28115779617251163"
        ],
        [
         "14",
         "15",
         "Cutthroat Island (1995)",
         "Action|Adventure|Romance",
         "Action Adventure Romance",
         "0.5772172018848956"
        ],
        [
         "15",
         "16",
         "Casino (1995)",
         "Crime|Drama",
         "Crime Drama",
         "0.3721905930928631"
        ],
        [
         "16",
         "17",
         "Sense and Sensibility (1995)",
         "Drama|Romance",
         "Drama Romance",
         "0.2842214743621766"
        ],
        [
         "17",
         "18",
         "Four Rooms (1995)",
         "Comedy",
         "Comedy",
         "0.37526970174077207"
        ],
        [
         "18",
         "19",
         "Ace Ventura: When Nature Calls (1995)",
         "Comedy",
         "Comedy",
         "0.37526970174077207"
        ],
        [
         "19",
         "20",
         "Money Train (1995)",
         "Action|Comedy|Crime|Drama|Thriller",
         "Action Comedy Crime Drama Thriller",
         "0.6827913888611048"
        ],
        [
         "20",
         "21",
         "Get Shorty (1995)",
         "Comedy|Crime|Thriller",
         "Comedy Crime Thriller",
         "0.48406563449984147"
        ],
        [
         "21",
         "22",
         "Copycat (1995)",
         "Crime|Drama|Horror|Mystery|Thriller",
         "Crime Drama Horror Mystery Thriller",
         "0.3788069689342643"
        ],
        [
         "22",
         "23",
         "Assassins (1995)",
         "Action|Crime|Thriller",
         "Action Crime Thriller",
         "0.5232096112379276"
        ],
        [
         "23",
         "24",
         "Powder (1995)",
         "Drama|Sci-Fi",
         "Drama Sci-Fi",
         "0.34204829024525707"
        ],
        [
         "24",
         "25",
         "Leaving Las Vegas (1995)",
         "Drama|Romance",
         "Drama Romance",
         "0.2842214743621766"
        ],
        [
         "25",
         "26",
         "Othello (1995)",
         "Drama",
         "Drama",
         "0.28115779617251163"
        ],
        [
         "26",
         "27",
         "Now and Then (1995)",
         "Children|Drama",
         "Children Drama",
         "0.316495729117168"
        ],
        [
         "27",
         "28",
         "Persuasion (1995)",
         "Drama|Romance",
         "Drama Romance",
         "0.2842214743621766"
        ],
        [
         "28",
         "29",
         "City of Lost Children, The (Cité des enfants perdus, La) (1995)",
         "Adventure|Drama|Fantasy|Mystery|Sci-Fi",
         "Adventure Drama Fantasy Mystery Sci-Fi",
         "0.5519242629016393"
        ],
        [
         "29",
         "30",
         "Shanghai Triad (Yao a yao yao dao waipo qiao) (1995)",
         "Crime|Drama",
         "Crime Drama",
         "0.3721905930928631"
        ],
        [
         "30",
         "31",
         "Dangerous Minds (1995)",
         "Drama",
         "Drama",
         "0.28115779617251163"
        ],
        [
         "31",
         "32",
         "Twelve Monkeys (a.k.a. 12 Monkeys) (1995)",
         "Mystery|Sci-Fi|Thriller",
         "Mystery Sci-Fi Thriller",
         "0.33231988466394635"
        ],
        [
         "32",
         "34",
         "Babe (1995)",
         "Children|Drama",
         "Children Drama",
         "0.316495729117168"
        ],
        [
         "33",
         "36",
         "Dead Man Walking (1995)",
         "Crime|Drama",
         "Crime Drama",
         "0.3721905930928631"
        ],
        [
         "34",
         "38",
         "It Takes Two (1995)",
         "Children|Comedy",
         "Children Comedy",
         "0.36549094522970815"
        ],
        [
         "35",
         "39",
         "Clueless (1995)",
         "Comedy|Romance",
         "Comedy Romance",
         "0.34332800252811463"
        ],
        [
         "36",
         "40",
         "Cry, the Beloved Country (1995)",
         "Drama",
         "Drama",
         "0.28115779617251163"
        ],
        [
         "37",
         "41",
         "Richard III (1995)",
         "Drama|War",
         "Drama War",
         "0.2701810358950556"
        ],
        [
         "38",
         "42",
         "Dead Presidents (1995)",
         "Action|Crime|Drama",
         "Action Crime Drama",
         "0.5433675260794587"
        ],
        [
         "39",
         "43",
         "Restoration (1995)",
         "Drama",
         "Drama",
         "0.28115779617251163"
        ],
        [
         "40",
         "44",
         "Mortal Kombat (1995)",
         "Action|Adventure|Fantasy",
         "Action Adventure Fantasy",
         "0.6234160428951759"
        ],
        [
         "41",
         "45",
         "To Die For (1995)",
         "Comedy|Drama|Thriller",
         "Comedy Drama Thriller",
         "0.49791519131588674"
        ],
        [
         "42",
         "46",
         "How to Make an American Quilt (1995)",
         "Drama|Romance",
         "Drama Romance",
         "0.2842214743621766"
        ],
        [
         "44",
         "48",
         "Pocahontas (1995)",
         "Animation|Children|Drama|Musical|Romance",
         "Animation Children Drama Musical Romance",
         "0.3856800973251279"
        ],
        [
         "45",
         "49",
         "When Night Is Falling (1995)",
         "Drama|Romance",
         "Drama Romance",
         "0.2842214743621766"
        ],
        [
         "47",
         "52",
         "Mighty Aphrodite (1995)",
         "Comedy|Drama|Romance",
         "Comedy Drama Romance",
         "0.4348314780187451"
        ],
        [
         "48",
         "53",
         "Lamerica (1994)",
         "Adventure|Drama",
         "Adventure Drama",
         "0.5131600170295744"
        ],
        [
         "49",
         "54",
         "Big Green, The (1995)",
         "Children|Comedy",
         "Children Comedy",
         "0.36549094522970815"
        ],
        [
         "50",
         "55",
         "Georgia (1995)",
         "Drama",
         "Drama",
         "0.28115779617251163"
        ],
        [
         "51",
         "57",
         "Home for the Holidays (1995)",
         "Drama",
         "Drama",
         "0.28115779617251163"
        ],
        [
         "52",
         "58",
         "Postman, The (Postino, Il) (1994)",
         "Comedy|Drama|Romance",
         "Comedy Drama Romance",
         "0.4348314780187451"
        ],
        [
         "53",
         "60",
         "Indian in the Cupboard, The (1995)",
         "Adventure|Children|Fantasy",
         "Adventure Children Fantasy",
         "0.5124932741986525"
        ],
        [
         "54",
         "61",
         "Eye for an Eye (1996)",
         "Drama|Thriller",
         "Drama Thriller",
         "0.35418441607878287"
        ]
       ],
       "shape": {
        "columns": 5,
        "rows": 9542
       }
      },
      "text/html": [
       "<div>\n",
       "<style scoped>\n",
       "    .dataframe tbody tr th:only-of-type {\n",
       "        vertical-align: middle;\n",
       "    }\n",
       "\n",
       "    .dataframe tbody tr th {\n",
       "        vertical-align: top;\n",
       "    }\n",
       "\n",
       "    .dataframe thead th {\n",
       "        text-align: right;\n",
       "    }\n",
       "</style>\n",
       "<table border=\"1\" class=\"dataframe\">\n",
       "  <thead>\n",
       "    <tr style=\"text-align: right;\">\n",
       "      <th></th>\n",
       "      <th>movieId</th>\n",
       "      <th>title</th>\n",
       "      <th>genres</th>\n",
       "      <th>processed_genres</th>\n",
       "      <th>similarity</th>\n",
       "    </tr>\n",
       "  </thead>\n",
       "  <tbody>\n",
       "    <tr>\n",
       "      <th>1</th>\n",
       "      <td>2</td>\n",
       "      <td>Jumanji (1995)</td>\n",
       "      <td>Adventure|Children|Fantasy</td>\n",
       "      <td>Adventure Children Fantasy</td>\n",
       "      <td>0.512493</td>\n",
       "    </tr>\n",
       "    <tr>\n",
       "      <th>3</th>\n",
       "      <td>4</td>\n",
       "      <td>Waiting to Exhale (1995)</td>\n",
       "      <td>Comedy|Drama|Romance</td>\n",
       "      <td>Comedy Drama Romance</td>\n",
       "      <td>0.434831</td>\n",
       "    </tr>\n",
       "    <tr>\n",
       "      <th>4</th>\n",
       "      <td>5</td>\n",
       "      <td>Father of the Bride Part II (1995)</td>\n",
       "      <td>Comedy</td>\n",
       "      <td>Comedy</td>\n",
       "      <td>0.375270</td>\n",
       "    </tr>\n",
       "    <tr>\n",
       "      <th>6</th>\n",
       "      <td>7</td>\n",
       "      <td>Sabrina (1995)</td>\n",
       "      <td>Comedy|Romance</td>\n",
       "      <td>Comedy Romance</td>\n",
       "      <td>0.343328</td>\n",
       "    </tr>\n",
       "    <tr>\n",
       "      <th>7</th>\n",
       "      <td>8</td>\n",
       "      <td>Tom and Huck (1995)</td>\n",
       "      <td>Adventure|Children</td>\n",
       "      <td>Adventure Children</td>\n",
       "      <td>0.439300</td>\n",
       "    </tr>\n",
       "    <tr>\n",
       "      <th>...</th>\n",
       "      <td>...</td>\n",
       "      <td>...</td>\n",
       "      <td>...</td>\n",
       "      <td>...</td>\n",
       "      <td>...</td>\n",
       "    </tr>\n",
       "    <tr>\n",
       "      <th>9737</th>\n",
       "      <td>193581</td>\n",
       "      <td>Black Butler: Book of the Atlantic (2017)</td>\n",
       "      <td>Action|Animation|Comedy|Fantasy</td>\n",
       "      <td>Action Animation Comedy Fantasy</td>\n",
       "      <td>0.548823</td>\n",
       "    </tr>\n",
       "    <tr>\n",
       "      <th>9738</th>\n",
       "      <td>193583</td>\n",
       "      <td>No Game No Life: Zero (2017)</td>\n",
       "      <td>Animation|Comedy|Fantasy</td>\n",
       "      <td>Animation Comedy Fantasy</td>\n",
       "      <td>0.411311</td>\n",
       "    </tr>\n",
       "    <tr>\n",
       "      <th>9739</th>\n",
       "      <td>193585</td>\n",
       "      <td>Flint (2017)</td>\n",
       "      <td>Drama</td>\n",
       "      <td>Drama</td>\n",
       "      <td>0.281158</td>\n",
       "    </tr>\n",
       "    <tr>\n",
       "      <th>9740</th>\n",
       "      <td>193587</td>\n",
       "      <td>Bungo Stray Dogs: Dead Apple (2018)</td>\n",
       "      <td>Action|Animation</td>\n",
       "      <td>Action Animation</td>\n",
       "      <td>0.365304</td>\n",
       "    </tr>\n",
       "    <tr>\n",
       "      <th>9741</th>\n",
       "      <td>193609</td>\n",
       "      <td>Andrew Dice Clay: Dice Rules (1991)</td>\n",
       "      <td>Comedy</td>\n",
       "      <td>Comedy</td>\n",
       "      <td>0.375270</td>\n",
       "    </tr>\n",
       "  </tbody>\n",
       "</table>\n",
       "<p>9542 rows × 5 columns</p>\n",
       "</div>"
      ],
      "text/plain": [
       "      movieId                                      title  \\\n",
       "1           2                             Jumanji (1995)   \n",
       "3           4                   Waiting to Exhale (1995)   \n",
       "4           5         Father of the Bride Part II (1995)   \n",
       "6           7                             Sabrina (1995)   \n",
       "7           8                        Tom and Huck (1995)   \n",
       "...       ...                                        ...   \n",
       "9737   193581  Black Butler: Book of the Atlantic (2017)   \n",
       "9738   193583               No Game No Life: Zero (2017)   \n",
       "9739   193585                               Flint (2017)   \n",
       "9740   193587        Bungo Stray Dogs: Dead Apple (2018)   \n",
       "9741   193609        Andrew Dice Clay: Dice Rules (1991)   \n",
       "\n",
       "                               genres                 processed_genres  \\\n",
       "1          Adventure|Children|Fantasy       Adventure Children Fantasy   \n",
       "3                Comedy|Drama|Romance             Comedy Drama Romance   \n",
       "4                              Comedy                           Comedy   \n",
       "6                      Comedy|Romance                   Comedy Romance   \n",
       "7                  Adventure|Children               Adventure Children   \n",
       "...                               ...                              ...   \n",
       "9737  Action|Animation|Comedy|Fantasy  Action Animation Comedy Fantasy   \n",
       "9738         Animation|Comedy|Fantasy         Animation Comedy Fantasy   \n",
       "9739                            Drama                            Drama   \n",
       "9740                 Action|Animation                 Action Animation   \n",
       "9741                           Comedy                           Comedy   \n",
       "\n",
       "      similarity  \n",
       "1       0.512493  \n",
       "3       0.434831  \n",
       "4       0.375270  \n",
       "6       0.343328  \n",
       "7       0.439300  \n",
       "...          ...  \n",
       "9737    0.548823  \n",
       "9738    0.411311  \n",
       "9739    0.281158  \n",
       "9740    0.365304  \n",
       "9741    0.375270  \n",
       "\n",
       "[9542 rows x 5 columns]"
      ]
     },
     "execution_count": 29,
     "metadata": {},
     "output_type": "execute_result"
    }
   ],
   "source": [
    "# Bước 11: Loại bỏ các phim mà người dùng đã xem để không gợi ý lại\n",
    "recommended_df = movies_df[~movies_df['movieId'].isin(liked_movies['movieId'])]\n",
    "recommended_df"
   ]
  },
  {
   "cell_type": "code",
   "execution_count": 31,
   "metadata": {},
   "outputs": [
    {
     "data": {
      "application/vnd.microsoft.datawrangler.viewer.v0+json": {
       "columns": [
        {
         "name": "index",
         "rawType": "int64",
         "type": "integer"
        },
        {
         "name": "movieId",
         "rawType": "int64",
         "type": "integer"
        },
        {
         "name": "title",
         "rawType": "object",
         "type": "string"
        },
        {
         "name": "genres",
         "rawType": "object",
         "type": "string"
        },
        {
         "name": "processed_genres",
         "rawType": "object",
         "type": "string"
        },
        {
         "name": "similarity",
         "rawType": "float64",
         "type": "float"
        }
       ],
       "conversionMethod": "pd.DataFrame",
       "ref": "ad5867d9-d194-4663-a5d5-bf1eb074cac4",
       "rows": [
        [
         "8597",
         "117646",
         "Dragonheart 2: A New Beginning (2000)",
         "Action|Adventure|Comedy|Drama|Fantasy|Thriller",
         "Action Adventure Comedy Drama Fantasy Thriller",
         "0.7961712897944824"
        ],
        [
         "4681",
         "6990",
         "The Great Train Robbery (1978)",
         "Action|Adventure|Comedy|Crime|Drama",
         "Action Adventure Comedy Crime Drama",
         "0.7774661502646378"
        ],
        [
         "4005",
         "5657",
         "Flashback (1990)",
         "Action|Adventure|Comedy|Crime|Drama",
         "Action Adventure Comedy Crime Drama",
         "0.7774661502646378"
        ],
        [
         "6570",
         "55116",
         "Hunting Party, The (2007)",
         "Action|Adventure|Comedy|Drama|Thriller",
         "Action Adventure Comedy Drama Thriller",
         "0.7737306720671041"
        ],
        [
         "3608",
         "4956",
         "Stunt Man, The (1980)",
         "Action|Adventure|Comedy|Drama|Romance|Thriller",
         "Action Adventure Comedy Drama Romance Thriller",
         "0.760834341928328"
        ],
        [
         "5471",
         "26184",
         "Diamond Arm, The (Brilliantovaya ruka) (1968)",
         "Action|Adventure|Comedy|Crime|Thriller",
         "Action Adventure Comedy Crime Thriller",
         "0.7566301060221937"
        ],
        [
         "7409",
         "80219",
         "Machete (2010)",
         "Action|Adventure|Comedy|Crime|Thriller",
         "Action Adventure Comedy Crime Thriller",
         "0.7566301060221937"
        ],
        [
         "4409",
         "6503",
         "Charlie's Angels: Full Throttle (2003)",
         "Action|Adventure|Comedy|Crime|Thriller",
         "Action Adventure Comedy Crime Thriller",
         "0.7566301060221937"
        ],
        [
         "5379",
         "8968",
         "After the Sunset (2004)",
         "Action|Adventure|Comedy|Crime|Thriller",
         "Action Adventure Comedy Crime Thriller",
         "0.7566301060221937"
        ],
        [
         "6774",
         "60074",
         "Hancock (2008)",
         "Action|Adventure|Comedy|Crime|Fantasy",
         "Action Adventure Comedy Crime Fantasy",
         "0.7550729537395267"
        ]
       ],
       "shape": {
        "columns": 5,
        "rows": 10
       }
      },
      "text/html": [
       "<div>\n",
       "<style scoped>\n",
       "    .dataframe tbody tr th:only-of-type {\n",
       "        vertical-align: middle;\n",
       "    }\n",
       "\n",
       "    .dataframe tbody tr th {\n",
       "        vertical-align: top;\n",
       "    }\n",
       "\n",
       "    .dataframe thead th {\n",
       "        text-align: right;\n",
       "    }\n",
       "</style>\n",
       "<table border=\"1\" class=\"dataframe\">\n",
       "  <thead>\n",
       "    <tr style=\"text-align: right;\">\n",
       "      <th></th>\n",
       "      <th>movieId</th>\n",
       "      <th>title</th>\n",
       "      <th>genres</th>\n",
       "      <th>processed_genres</th>\n",
       "      <th>similarity</th>\n",
       "    </tr>\n",
       "  </thead>\n",
       "  <tbody>\n",
       "    <tr>\n",
       "      <th>8597</th>\n",
       "      <td>117646</td>\n",
       "      <td>Dragonheart 2: A New Beginning (2000)</td>\n",
       "      <td>Action|Adventure|Comedy|Drama|Fantasy|Thriller</td>\n",
       "      <td>Action Adventure Comedy Drama Fantasy Thriller</td>\n",
       "      <td>0.796171</td>\n",
       "    </tr>\n",
       "    <tr>\n",
       "      <th>4681</th>\n",
       "      <td>6990</td>\n",
       "      <td>The Great Train Robbery (1978)</td>\n",
       "      <td>Action|Adventure|Comedy|Crime|Drama</td>\n",
       "      <td>Action Adventure Comedy Crime Drama</td>\n",
       "      <td>0.777466</td>\n",
       "    </tr>\n",
       "    <tr>\n",
       "      <th>4005</th>\n",
       "      <td>5657</td>\n",
       "      <td>Flashback (1990)</td>\n",
       "      <td>Action|Adventure|Comedy|Crime|Drama</td>\n",
       "      <td>Action Adventure Comedy Crime Drama</td>\n",
       "      <td>0.777466</td>\n",
       "    </tr>\n",
       "    <tr>\n",
       "      <th>6570</th>\n",
       "      <td>55116</td>\n",
       "      <td>Hunting Party, The (2007)</td>\n",
       "      <td>Action|Adventure|Comedy|Drama|Thriller</td>\n",
       "      <td>Action Adventure Comedy Drama Thriller</td>\n",
       "      <td>0.773731</td>\n",
       "    </tr>\n",
       "    <tr>\n",
       "      <th>3608</th>\n",
       "      <td>4956</td>\n",
       "      <td>Stunt Man, The (1980)</td>\n",
       "      <td>Action|Adventure|Comedy|Drama|Romance|Thriller</td>\n",
       "      <td>Action Adventure Comedy Drama Romance Thriller</td>\n",
       "      <td>0.760834</td>\n",
       "    </tr>\n",
       "    <tr>\n",
       "      <th>5471</th>\n",
       "      <td>26184</td>\n",
       "      <td>Diamond Arm, The (Brilliantovaya ruka) (1968)</td>\n",
       "      <td>Action|Adventure|Comedy|Crime|Thriller</td>\n",
       "      <td>Action Adventure Comedy Crime Thriller</td>\n",
       "      <td>0.756630</td>\n",
       "    </tr>\n",
       "    <tr>\n",
       "      <th>7409</th>\n",
       "      <td>80219</td>\n",
       "      <td>Machete (2010)</td>\n",
       "      <td>Action|Adventure|Comedy|Crime|Thriller</td>\n",
       "      <td>Action Adventure Comedy Crime Thriller</td>\n",
       "      <td>0.756630</td>\n",
       "    </tr>\n",
       "    <tr>\n",
       "      <th>4409</th>\n",
       "      <td>6503</td>\n",
       "      <td>Charlie's Angels: Full Throttle (2003)</td>\n",
       "      <td>Action|Adventure|Comedy|Crime|Thriller</td>\n",
       "      <td>Action Adventure Comedy Crime Thriller</td>\n",
       "      <td>0.756630</td>\n",
       "    </tr>\n",
       "    <tr>\n",
       "      <th>5379</th>\n",
       "      <td>8968</td>\n",
       "      <td>After the Sunset (2004)</td>\n",
       "      <td>Action|Adventure|Comedy|Crime|Thriller</td>\n",
       "      <td>Action Adventure Comedy Crime Thriller</td>\n",
       "      <td>0.756630</td>\n",
       "    </tr>\n",
       "    <tr>\n",
       "      <th>6774</th>\n",
       "      <td>60074</td>\n",
       "      <td>Hancock (2008)</td>\n",
       "      <td>Action|Adventure|Comedy|Crime|Fantasy</td>\n",
       "      <td>Action Adventure Comedy Crime Fantasy</td>\n",
       "      <td>0.755073</td>\n",
       "    </tr>\n",
       "  </tbody>\n",
       "</table>\n",
       "</div>"
      ],
      "text/plain": [
       "      movieId                                          title  \\\n",
       "8597   117646          Dragonheart 2: A New Beginning (2000)   \n",
       "4681     6990                 The Great Train Robbery (1978)   \n",
       "4005     5657                               Flashback (1990)   \n",
       "6570    55116                      Hunting Party, The (2007)   \n",
       "3608     4956                          Stunt Man, The (1980)   \n",
       "5471    26184  Diamond Arm, The (Brilliantovaya ruka) (1968)   \n",
       "7409    80219                                 Machete (2010)   \n",
       "4409     6503         Charlie's Angels: Full Throttle (2003)   \n",
       "5379     8968                        After the Sunset (2004)   \n",
       "6774    60074                                 Hancock (2008)   \n",
       "\n",
       "                                              genres  \\\n",
       "8597  Action|Adventure|Comedy|Drama|Fantasy|Thriller   \n",
       "4681             Action|Adventure|Comedy|Crime|Drama   \n",
       "4005             Action|Adventure|Comedy|Crime|Drama   \n",
       "6570          Action|Adventure|Comedy|Drama|Thriller   \n",
       "3608  Action|Adventure|Comedy|Drama|Romance|Thriller   \n",
       "5471          Action|Adventure|Comedy|Crime|Thriller   \n",
       "7409          Action|Adventure|Comedy|Crime|Thriller   \n",
       "4409          Action|Adventure|Comedy|Crime|Thriller   \n",
       "5379          Action|Adventure|Comedy|Crime|Thriller   \n",
       "6774           Action|Adventure|Comedy|Crime|Fantasy   \n",
       "\n",
       "                                    processed_genres  similarity  \n",
       "8597  Action Adventure Comedy Drama Fantasy Thriller    0.796171  \n",
       "4681             Action Adventure Comedy Crime Drama    0.777466  \n",
       "4005             Action Adventure Comedy Crime Drama    0.777466  \n",
       "6570          Action Adventure Comedy Drama Thriller    0.773731  \n",
       "3608  Action Adventure Comedy Drama Romance Thriller    0.760834  \n",
       "5471          Action Adventure Comedy Crime Thriller    0.756630  \n",
       "7409          Action Adventure Comedy Crime Thriller    0.756630  \n",
       "4409          Action Adventure Comedy Crime Thriller    0.756630  \n",
       "5379          Action Adventure Comedy Crime Thriller    0.756630  \n",
       "6774           Action Adventure Comedy Crime Fantasy    0.755073  "
      ]
     },
     "execution_count": 31,
     "metadata": {},
     "output_type": "execute_result"
    }
   ],
   "source": [
    "# Bước 12: Sắp xếp và chọn ra 10 phim có độ tương đồng cao nhất\n",
    "top_recommendations = recommended_df.sort_values(by='similarity', ascending=False).head(10)\n",
    "top_recommendations"
   ]
  },
  {
   "cell_type": "code",
   "execution_count": 32,
   "metadata": {},
   "outputs": [
    {
     "name": "stdout",
     "output_type": "stream",
     "text": [
      "                                              title  \\\n",
      "8597          Dragonheart 2: A New Beginning (2000)   \n",
      "4681                 The Great Train Robbery (1978)   \n",
      "4005                               Flashback (1990)   \n",
      "6570                      Hunting Party, The (2007)   \n",
      "3608                          Stunt Man, The (1980)   \n",
      "5471  Diamond Arm, The (Brilliantovaya ruka) (1968)   \n",
      "7409                                 Machete (2010)   \n",
      "4409         Charlie's Angels: Full Throttle (2003)   \n",
      "5379                        After the Sunset (2004)   \n",
      "6774                                 Hancock (2008)   \n",
      "\n",
      "                                              genres  similarity  \n",
      "8597  Action|Adventure|Comedy|Drama|Fantasy|Thriller    0.796171  \n",
      "4681             Action|Adventure|Comedy|Crime|Drama    0.777466  \n",
      "4005             Action|Adventure|Comedy|Crime|Drama    0.777466  \n",
      "6570          Action|Adventure|Comedy|Drama|Thriller    0.773731  \n",
      "3608  Action|Adventure|Comedy|Drama|Romance|Thriller    0.760834  \n",
      "5471          Action|Adventure|Comedy|Crime|Thriller    0.756630  \n",
      "7409          Action|Adventure|Comedy|Crime|Thriller    0.756630  \n",
      "4409          Action|Adventure|Comedy|Crime|Thriller    0.756630  \n",
      "5379          Action|Adventure|Comedy|Crime|Thriller    0.756630  \n",
      "6774           Action|Adventure|Comedy|Crime|Fantasy    0.755073  \n"
     ]
    }
   ],
   "source": [
    "# Bước 13: In ra danh sách 10 phim được gợi ý\n",
    "print(top_recommendations[['title', 'genres', 'similarity']])"
   ]
  },
  {
   "cell_type": "code",
   "execution_count": null,
   "metadata": {},
   "outputs": [],
   "source": []
  }
 ],
 "metadata": {
  "kernelspec": {
   "display_name": ".venv",
   "language": "python",
   "name": "python3"
  },
  "language_info": {
   "codemirror_mode": {
    "name": "ipython",
    "version": 3
   },
   "file_extension": ".py",
   "mimetype": "text/x-python",
   "name": "python",
   "nbconvert_exporter": "python",
   "pygments_lexer": "ipython3",
   "version": "3.11.9"
  }
 },
 "nbformat": 4,
 "nbformat_minor": 2
}
