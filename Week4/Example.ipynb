{
 "cells": [
  {
   "cell_type": "code",
   "execution_count": null,
   "metadata": {},
   "outputs": [
    {
     "name": "stdout",
     "output_type": "stream",
     "text": [
      "[[0. 1. 0.]\n",
      " [1. 0. 0.]\n",
      " [0. 1. 0.]\n",
      " [0. 0. 1.]]\n"
     ]
    }
   ],
   "source": [
    "from sklearn.preprocessing import OneHotEncoder\n",
    "import numpy as np\n",
    "\n",
    "corpus = ['dog', 'cat', 'dog', 'fish']\n",
    "\n",
    "corpus = np.array(corpus).reshape(-1, 1)\n",
    "\n",
    "onehot_encoder = OneHotEncoder(sparse_output=False)\n",
    "onehot_encoder = onehot_encoder.fit_transform(corpus)\n",
    "\n",
    "print(onehot_encoder)"
   ]
  },
  {
   "cell_type": "code",
   "execution_count": 2,
   "metadata": {},
   "outputs": [
    {
     "name": "stdout",
     "output_type": "stream",
     "text": [
      "[('first', True), ('dog', False), ('name', True), ('his', True), ('second', False), ('he', True), ('third', True), ('one', True), ('And', True), ('Is', True), ('the', True), ('this', True), ('my', True)]\n",
      "[[0. 0. 0. 1. 0. 0. 0. 0. 0. 0. 0. 0. 0.]\n",
      " [0. 0. 1. 0. 0. 0. 0. 0. 0. 0. 0. 0. 0.]\n",
      " [0. 0. 0. 0. 0. 0. 0. 1. 0. 0. 0. 0. 0.]\n",
      " [0. 0. 0. 0. 0. 1. 0. 0. 0. 0. 0. 0. 0.]\n",
      " [0. 0. 0. 0. 0. 0. 0. 0. 0. 1. 0. 0. 0.]\n",
      " [0. 0. 0. 0. 1. 0. 0. 0. 0. 0. 0. 0. 0.]\n",
      " [0. 0. 0. 0. 0. 0. 0. 0. 0. 0. 0. 1. 0.]\n",
      " [0. 0. 0. 0. 0. 0. 0. 0. 1. 0. 0. 0. 0.]\n",
      " [1. 0. 0. 0. 0. 0. 0. 0. 0. 0. 0. 0. 0.]\n",
      " [0. 1. 0. 0. 0. 0. 0. 0. 0. 0. 0. 0. 0.]\n",
      " [0. 0. 0. 0. 0. 0. 0. 0. 0. 0. 1. 0. 0.]\n",
      " [0. 0. 0. 0. 0. 0. 0. 0. 0. 0. 0. 0. 1.]\n",
      " [0. 0. 0. 0. 0. 0. 1. 0. 0. 0. 0. 0. 0.]]\n"
     ]
    }
   ],
   "source": [
    "import spacy\n",
    "import numpy as np\n",
    "\n",
    "nlp = spacy.load(\"en_core_web_sm\")\n",
    "\n",
    "V = \"first dog name his second he third one And Is the this my\"\n",
    "\n",
    "doc = nlp(V)\n",
    "tokens = [(token.text, token.is_stop) for token in doc]\n",
    "print(tokens)\n",
    "\n",
    "\n",
    "doc = V.split()\n",
    "doc = np.array(doc).reshape(-1, 1)\n",
    "\n",
    "onehot_encoder = OneHotEncoder(sparse_output=False)\n",
    "onehot_encoder = onehot_encoder.fit_transform(doc)\n",
    "\n",
    "print(onehot_encoder)\n",
    "\n"
   ]
  },
  {
   "cell_type": "code",
   "execution_count": 3,
   "metadata": {},
   "outputs": [
    {
     "name": "stdout",
     "output_type": "stream",
     "text": [
      "[[0 1 1 0 0 1 1 1 0 0 1 0 0]\n",
      " [0 1 0 0 1 1 0 1 0 1 1 0 0]\n",
      " [1 0 0 1 0 1 0 0 1 0 1 1 0]\n",
      " [0 1 1 0 0 1 0 0 0 0 1 0 1]]\n",
      "['and' 'dog' 'first' 'he' 'his' 'is' 'my' 'name' 'one' 'second' 'the'\n",
      " 'third' 'this']\n"
     ]
    }
   ],
   "source": [
    "from sklearn.feature_extraction.text import CountVectorizer\n",
    "\n",
    "corpus = [\n",
    "    'my name is the first dog',\n",
    "    'his name is the second dog',\n",
    "    'and he is the third one',\n",
    "    'is this the first dog?',\n",
    "]\n",
    "\n",
    "vectorizer = CountVectorizer()\n",
    "\n",
    "X = vectorizer.fit_transform(corpus)\n",
    "\n",
    "print(X.toarray())\n",
    "print(vectorizer.get_feature_names_out())\n",
    "\n",
    "\n",
    "\n"
   ]
  },
  {
   "cell_type": "code",
   "execution_count": null,
   "metadata": {},
   "outputs": [
    {
     "name": "stdout",
     "output_type": "stream",
     "text": [
      "M\n",
      "y\n",
      " \n",
      "n\n",
      "a\n",
      "m\n",
      "e\n",
      " \n",
      "i\n",
      "s\n",
      " \n",
      "t\n",
      "h\n",
      "e\n",
      " \n",
      "f\n",
      "i\n",
      "r\n",
      "s\n",
      "t\n",
      " \n",
      "d\n",
      "o\n",
      "g\n",
      " \n",
      "H\n",
      "i\n",
      "s\n",
      " \n",
      "n\n",
      "a\n",
      "m\n",
      "e\n",
      " \n",
      "i\n",
      "s\n",
      " \n",
      "t\n",
      "h\n",
      "e\n",
      " \n",
      "s\n",
      "e\n",
      "c\n",
      "o\n",
      "n\n",
      "d\n",
      " \n",
      "d\n",
      "o\n",
      "g\n",
      " \n",
      "a\n",
      "n\n",
      "d\n",
      " \n",
      "h\n",
      "e\n",
      " \n",
      "l\n",
      "i\n",
      "k\n",
      "e\n",
      "s\n",
      " \n",
      "f\n",
      "i\n",
      "s\n",
      "h\n",
      " \n",
      "I\n",
      "s\n",
      " \n",
      "t\n",
      "h\n",
      "i\n",
      "s\n",
      " \n",
      "t\n",
      "h\n",
      "e\n",
      " \n",
      "f\n",
      "i\n",
      "r\n",
      "s\n",
      "t\n",
      " \n",
      "d\n",
      "o\n",
      "g\n",
      "?\n"
     ]
    }
   ],
   "source": [
    "import spacy\n",
    "from sklearn.preprocessing import OneHotEncoder\n",
    "import numpy as np\n",
    "\n",
    "def BagofWord(input):\n",
    "    sentences = []\n",
    "    nlp = spacy.load(\"en_core_web_sm\")\n",
    "    input = input.split('.')\n",
    "\n",
    "    for senten in input:\n",
    "        sen = nlp(senten)\n",
    "        for temp in sen.ents:\n",
    "            sentences.extend(temp)\n",
    "    for sen in sentences:\n",
    "        print(sen)\n",
    "    \n",
    "\n",
    "BagofWord(\"My name is the first dog. His name is the second dog, and he likes fish. Is this the first dog?\")"
   ]
  }
 ],
 "metadata": {
  "kernelspec": {
   "display_name": "Python 3",
   "language": "python",
   "name": "python3"
  },
  "language_info": {
   "codemirror_mode": {
    "name": "ipython",
    "version": 3
   },
   "file_extension": ".py",
   "mimetype": "text/x-python",
   "name": "python",
   "nbconvert_exporter": "python",
   "pygments_lexer": "ipython3",
   "version": "3.11.9"
  }
 },
 "nbformat": 4,
 "nbformat_minor": 2
}
